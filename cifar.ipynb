{
 "cells": [
  {
   "cell_type": "markdown",
   "metadata": {},
   "source": [
    "# Pytorch\n",
    "Ejemplo de clasificador con Pytorch, comentado en español. \n",
    "\n",
    "El cuaderno de Jupyter se ha desarrollado con Visual Code y puedes encontrar el código en https://github.com/josegemez/pytorch_mnist \n",
    "\n",
    "Se ha desarrollado en python 3.10.4 "
   ]
  },
  {
   "cell_type": "markdown",
   "metadata": {},
   "source": [
    "## Import\n",
    "Con las primeras lineas vamos a importar los paquetes que básicos de Pytorch. "
   ]
  },
  {
   "cell_type": "code",
   "execution_count": 1,
   "metadata": {},
   "outputs": [],
   "source": [
    "import torch\n",
    "import torchvision\n",
    "import torchvision.transforms as transforms\n",
    "import numpy as np"
   ]
  },
  {
   "cell_type": "markdown",
   "metadata": {},
   "source": [
    "## Variables Generales"
   ]
  },
  {
   "cell_type": "code",
   "execution_count": 2,
   "metadata": {},
   "outputs": [],
   "source": [
    "batch_size_train = 4\n",
    "batch_size_test = 4"
   ]
  },
  {
   "cell_type": "markdown",
   "metadata": {},
   "source": [
    "## Transformaciones "
   ]
  },
  {
   "cell_type": "code",
   "execution_count": 3,
   "metadata": {},
   "outputs": [],
   "source": [
    "transforms=torchvision.transforms.Compose([\n",
    "                            torchvision.transforms.ToTensor(),\n",
    "                            torchvision.transforms.Normalize((0.5, 0.5, 0.5), (0.5, 0.5, 0.5)) #media y desviacion estandar para el dataset de cifar en concreto\n",
    "                            ])"
   ]
  },
  {
   "cell_type": "markdown",
   "metadata": {},
   "source": [
    "## Dataset "
   ]
  },
  {
   "cell_type": "code",
   "execution_count": 4,
   "metadata": {},
   "outputs": [
    {
     "name": "stdout",
     "output_type": "stream",
     "text": [
      "Downloading https://www.cs.toronto.edu/~kriz/cifar-10-python.tar.gz to ./data\\cifar-10-python.tar.gz\n"
     ]
    },
    {
     "data": {
      "application/vnd.jupyter.widget-view+json": {
       "model_id": "a6622d1618694ac5bce2419c5baca298",
       "version_major": 2,
       "version_minor": 0
      },
      "text/plain": [
       "  0%|          | 0/170498071 [00:00<?, ?it/s]"
      ]
     },
     "metadata": {},
     "output_type": "display_data"
    },
    {
     "name": "stdout",
     "output_type": "stream",
     "text": [
      "Extracting ./data\\cifar-10-python.tar.gz to ./data\n"
     ]
    }
   ],
   "source": [
    "dataset_cifar_train = torchvision.datasets.CIFAR10(root='./data', train=True,\n",
    "                                        download=True, transform=transforms)  #descarga el dataset de pytorch                  "
   ]
  },
  {
   "cell_type": "markdown",
   "metadata": {},
   "source": [
    "## Dataloader"
   ]
  },
  {
   "cell_type": "code",
   "execution_count": 5,
   "metadata": {},
   "outputs": [],
   "source": [
    "train_loader = torch.utils.data.DataLoader(dataset_cifar_train,  batch_size=batch_size_train, shuffle=True,num_workers=0,pin_memory=True) #cargador de los datos en batch de entrenamiento"
   ]
  },
  {
   "cell_type": "code",
   "execution_count": 6,
   "metadata": {},
   "outputs": [],
   "source": [
    "classes = ('plane', 'car', 'bird', 'cat',\n",
    "           'deer', 'dog', 'frog', 'horse', 'ship', 'truck')"
   ]
  },
  {
   "cell_type": "markdown",
   "metadata": {},
   "source": [
    "Vamos a ver que \"pinta\" tiene cada elemento del cargador"
   ]
  },
  {
   "cell_type": "code",
   "execution_count": 7,
   "metadata": {},
   "outputs": [],
   "source": [
    "x, y = next(iter(train_loader)) #asignamos el primer batch a las variables x e y. La variable X contrendra las imagenes e y contrendra las etiquetas"
   ]
  },
  {
   "cell_type": "markdown",
   "metadata": {},
   "source": [
    "x es un batch, por lo que la primera dimensión coincidira con el batch size "
   ]
  },
  {
   "cell_type": "code",
   "execution_count": 8,
   "metadata": {},
   "outputs": [],
   "source": [
    "from matplotlib.pyplot import imshow"
   ]
  },
  {
   "cell_type": "code",
   "execution_count": 9,
   "metadata": {},
   "outputs": [],
   "source": [
    "img0 = x[0].numpy()\n",
    "img0 = img0/ 2 + 0.5 #para quitar la normalizacion que hemos hecho antes con los transform"
   ]
  },
  {
   "cell_type": "code",
   "execution_count": 10,
   "metadata": {},
   "outputs": [
    {
     "data": {
      "image/png": "[encoded data removed]",
      "text/plain": [
       "<Figure size 432x288 with 1 Axes>"
      ]
     },
     "metadata": {
      "needs_background": "light"
     },
     "output_type": "display_data"
    }
   ],
   "source": [
    "imshow(np.transpose(img0, (1, 2, 0))); # transformamos el primer elemento del batch una matriz de numpy y mostramos con matplotlib"
   ]
  },
  {
   "cell_type": "code",
   "execution_count": 11,
   "metadata": {},
   "outputs": [
    {
     "data": {
      "text/plain": [
       "tensor([[[[-0.0745, -0.0510, -0.0588,  ..., -0.1529, -0.1765, -0.2000],\n",
       "          [-0.0196, -0.0039, -0.0196,  ..., -0.0667, -0.1451, -0.1843],\n",
       "          [ 0.0039, -0.0118, -0.1059,  ..., -0.1529, -0.3961, -0.4824],\n",
       "          ...,\n",
       "          [ 0.1529,  0.1843,  0.2314,  ...,  0.1373,  0.0745,  0.0118],\n",
       "          [ 0.1373,  0.1922,  0.2392,  ...,  0.1373,  0.0745,  0.0039],\n",
       "          [ 0.0980,  0.1451,  0.2000,  ...,  0.0824,  0.0431, -0.0353]],\n",
       "\n",
       "         [[-0.4039, -0.3882, -0.3804,  ..., -0.4431, -0.4667, -0.4824],\n",
       "          [-0.3647, -0.3490, -0.3490,  ..., -0.3569, -0.4275, -0.4667],\n",
       "          [-0.3412, -0.3490, -0.4039,  ..., -0.4588, -0.6392, -0.6706],\n",
       "          ...,\n",
       "          [-0.0275,  0.0118,  0.0667,  ...,  0.0588, -0.0118, -0.0667],\n",
       "          [-0.0431,  0.0118,  0.0745,  ...,  0.0588,  0.0039, -0.0824],\n",
       "          [-0.0824, -0.0275,  0.0275,  ...,  0.0118, -0.0275, -0.1137]],\n",
       "\n",
       "         [[-0.5451, -0.5373, -0.5451,  ..., -0.5294, -0.5686, -0.5843],\n",
       "          [-0.5137, -0.5137, -0.5216,  ..., -0.4510, -0.5373, -0.5765],\n",
       "          [-0.4980, -0.5137, -0.5373,  ..., -0.5608, -0.7255, -0.7569],\n",
       "          ...,\n",
       "          [-0.0824, -0.0353,  0.0275,  ...,  0.0353, -0.0275, -0.0902],\n",
       "          [-0.0902, -0.0353,  0.0275,  ...,  0.0275, -0.0275, -0.1059],\n",
       "          [-0.1294, -0.0745, -0.0118,  ..., -0.0196, -0.0588, -0.1451]]],\n",
       "\n",
       "\n",
       "        [[[ 0.0353,  0.1059,  0.1765,  ...,  0.1843,  0.2000,  0.0824],\n",
       "          [ 0.0510,  0.0353,  0.0431,  ...,  0.2000,  0.1922,  0.1059],\n",
       "          [ 0.0275, -0.0118, -0.0588,  ...,  0.2157,  0.2000,  0.0667],\n",
       "          ...,\n",
       "          [ 0.6000,  0.4275,  0.5137,  ...,  0.4275,  0.4745,  0.5216],\n",
       "          [ 0.6235,  0.3333,  0.2706,  ...,  0.3098,  0.3176,  0.5216],\n",
       "          [ 0.4039,  0.2549,  0.2078,  ...,  0.2784,  0.2549,  0.3176]],\n",
       "\n",
       "         [[-0.1765, -0.0980, -0.0275,  ...,  0.0745,  0.0902,  0.0039],\n",
       "          [-0.2157, -0.2314, -0.2314,  ...,  0.0431,  0.0667,  0.0118],\n",
       "          [-0.3020, -0.3333, -0.3804,  ...,  0.0118,  0.0431, -0.0510],\n",
       "          ...,\n",
       "          [ 0.5686,  0.3961,  0.4824,  ...,  0.3961,  0.4353,  0.4902],\n",
       "          [ 0.6314,  0.3412,  0.2706,  ...,  0.3255,  0.3647,  0.5529],\n",
       "          [ 0.4353,  0.2784,  0.2314,  ...,  0.3098,  0.3020,  0.3569]],\n",
       "\n",
       "         [[-0.4275, -0.3490, -0.2863,  ..., -0.1451, -0.1686, -0.1843],\n",
       "          [-0.4118, -0.4275, -0.4196,  ..., -0.1529, -0.1843, -0.1608],\n",
       "          [-0.4275, -0.4667, -0.5059,  ..., -0.1529, -0.1765, -0.2000],\n",
       "          ...,\n",
       "          [ 0.5294,  0.3490,  0.4196,  ...,  0.3255,  0.3647,  0.4353],\n",
       "          [ 0.6314,  0.3647,  0.3176,  ...,  0.3020,  0.3255,  0.5373],\n",
       "          [ 0.4510,  0.3176,  0.2863,  ...,  0.3176,  0.2941,  0.3569]]],\n",
       "\n",
       "\n",
       "        [[[-0.7647, -0.7647, -0.5373,  ...,  0.1686,  0.3804,  0.5765],\n",
       "          [-0.7725, -0.7647, -0.6235,  ...,  0.1843,  0.3882,  0.5843],\n",
       "          [-0.7725, -0.7804, -0.6941,  ...,  0.2000,  0.3882,  0.5843],\n",
       "          ...,\n",
       "          [ 0.1451,  0.2157,  0.2627,  ...,  0.3569,  0.3569,  0.2706],\n",
       "          [ 0.2941,  0.2941,  0.2627,  ...,  0.3333,  0.3569,  0.3020],\n",
       "          [ 0.4510,  0.4588,  0.4588,  ...,  0.2941,  0.3098,  0.2863]],\n",
       "\n",
       "         [[-0.7569, -0.7490, -0.4980,  ...,  0.1765,  0.3882,  0.5765],\n",
       "          [-0.7569, -0.7490, -0.5922,  ...,  0.1922,  0.3882,  0.5765],\n",
       "          [-0.7647, -0.7569, -0.6549,  ...,  0.2078,  0.3961,  0.5843],\n",
       "          ...,\n",
       "          [ 0.2078,  0.2471,  0.2863,  ...,  0.2157,  0.2157,  0.1294],\n",
       "          [ 0.3176,  0.3020,  0.2706,  ...,  0.1922,  0.2157,  0.1608],\n",
       "          [ 0.3725,  0.3804,  0.3961,  ...,  0.1529,  0.1686,  0.1451]],\n",
       "\n",
       "         [[-0.6157, -0.6157, -0.3725,  ...,  0.1373,  0.3804,  0.6000],\n",
       "          [-0.6314, -0.6235, -0.4667,  ...,  0.1529,  0.3804,  0.6000],\n",
       "          [-0.6549, -0.6471, -0.5529,  ...,  0.1686,  0.3804,  0.6078],\n",
       "          ...,\n",
       "          [ 0.2863,  0.3176,  0.3569,  ...,  0.1059,  0.1059,  0.0196],\n",
       "          [ 0.3725,  0.3725,  0.3490,  ...,  0.0824,  0.1059,  0.0510],\n",
       "          [ 0.3647,  0.3882,  0.4275,  ...,  0.0431,  0.0588,  0.0353]]],\n",
       "\n",
       "\n",
       "        [[[ 0.9843,  0.8824,  0.7882,  ...,  0.9686,  0.9686,  0.9922],\n",
       "          [ 1.0000,  0.7020,  0.5843,  ...,  0.9922,  1.0000,  1.0000],\n",
       "          [ 1.0000,  0.5686,  0.4902,  ...,  0.8902,  0.9843,  1.0000],\n",
       "          ...,\n",
       "          [ 1.0000,  0.9922,  0.9922,  ...,  1.0000,  1.0000,  1.0000],\n",
       "          [ 1.0000,  1.0000,  0.9843,  ...,  1.0000,  1.0000,  1.0000],\n",
       "          [ 1.0000,  1.0000,  0.9765,  ...,  1.0000,  1.0000,  1.0000]],\n",
       "\n",
       "         [[ 0.9922,  0.8588,  0.6549,  ...,  0.9765,  0.9765,  1.0000],\n",
       "          [ 0.9922,  0.5686,  0.3020,  ...,  0.9922,  1.0000,  1.0000],\n",
       "          [ 0.9686,  0.4118,  0.1765,  ...,  0.8510,  0.9529,  0.9922],\n",
       "          ...,\n",
       "          [ 1.0000,  0.9922,  0.9922,  ...,  1.0000,  1.0000,  1.0000],\n",
       "          [ 1.0000,  0.9922,  0.9843,  ...,  1.0000,  1.0000,  1.0000],\n",
       "          [ 1.0000,  1.0000,  0.9765,  ...,  1.0000,  1.0000,  1.0000]],\n",
       "\n",
       "         [[ 0.9294,  0.6549,  0.3804,  ...,  0.9608,  0.9686,  0.9922],\n",
       "          [ 0.9137,  0.3333, -0.0353,  ...,  0.9451,  1.0000,  1.0000],\n",
       "          [ 0.9373,  0.2235, -0.1216,  ...,  0.6549,  0.9137,  1.0000],\n",
       "          ...,\n",
       "          [ 1.0000,  0.9922,  0.9843,  ...,  1.0000,  1.0000,  1.0000],\n",
       "          [ 1.0000,  0.9922,  0.9765,  ...,  1.0000,  1.0000,  1.0000],\n",
       "          [ 1.0000,  1.0000,  0.9608,  ...,  1.0000,  1.0000,  1.0000]]]])"
      ]
     },
     "execution_count": 11,
     "metadata": {},
     "output_type": "execute_result"
    }
   ],
   "source": [
    "x #comprobamos los datos"
   ]
  },
  {
   "cell_type": "code",
   "execution_count": 12,
   "metadata": {},
   "outputs": [
    {
     "data": {
      "text/plain": [
       "tensor([5, 4, 5, 6])"
      ]
     },
     "execution_count": 12,
     "metadata": {},
     "output_type": "execute_result"
    }
   ],
   "source": [
    "y #comprobamos las etiquetas"
   ]
  },
  {
   "cell_type": "markdown",
   "metadata": {},
   "source": [
    "## Dataset Test"
   ]
  },
  {
   "cell_type": "code",
   "execution_count": 13,
   "metadata": {},
   "outputs": [
    {
     "name": "stdout",
     "output_type": "stream",
     "text": [
      "Files already downloaded and verified\n"
     ]
    }
   ],
   "source": [
    "dataset_cifar_test = torchvision.datasets.CIFAR10(root='./data', train=False,\n",
    "                                        download=True, transform=transforms)  #descarga el dataset de pytorch    "
   ]
  },
  {
   "cell_type": "code",
   "execution_count": 14,
   "metadata": {},
   "outputs": [],
   "source": [
    "test_loader = torch.utils.data.DataLoader(dataset_cifar_test,  batch_size=batch_size_test, shuffle=True, num_workers=0,pin_memory=True)              "
   ]
  },
  {
   "cell_type": "markdown",
   "metadata": {},
   "source": [
    "Ya tenemos los datos preparados, ahora vamos a crear la red"
   ]
  },
  {
   "cell_type": "code",
   "execution_count": 15,
   "metadata": {},
   "outputs": [],
   "source": [
    "learning_rate   =   0.001\n",
    "momentum   =   0.9\n",
    "n_epochs = 20"
   ]
  },
  {
   "cell_type": "code",
   "execution_count": 16,
   "metadata": {},
   "outputs": [],
   "source": [
    "import torch.nn as nn\n",
    "import torch.nn.functional as F\n",
    "import torch.optim as optim\n",
    "from tqdm import tqdm\n",
    "import numpy as np"
   ]
  },
  {
   "cell_type": "markdown",
   "metadata": {},
   "source": [
    "## MLP"
   ]
  },
  {
   "cell_type": "code",
   "execution_count": 17,
   "metadata": {},
   "outputs": [],
   "source": [
    "class Net(nn.Module):\n",
    "    def __init__(self):\n",
    "        super(Net, self).__init__()\n",
    "        n_hidden1 = 128\n",
    "        n_hidden2 = 64\n",
    "        self.fc1 = nn.Linear(28*28,n_hidden1) #capa \"fuly connect\" entrada 28*28 (tamaño de la imagen) 50 neuronas\n",
    "        self.fc1_drop = nn.Dropout(0.2) #dropout (regularizacion) 20% \n",
    "        self.fc2 = nn.Linear(n_hidden1, n_hidden2) #capa fully connect 50 neuronas \n",
    "        self.fc2_drop = nn.Dropout(0.2) #dropout (regularizacion) 20%\n",
    "        self.fc3 = nn.Linear(n_hidden2, 10) #capa de salida numero de salida igual al de etiquetas\n",
    "\n",
    "    def forward(self, x):\n",
    "        x = x.view(-1, 28*28) #cambia la forma del tensor, -1 para quitar la dimensiones anteriores y dejarlo todo en una vector de 256 elementos\n",
    "        x = F.relu(self.fc1(x)) #capa fully connect y luego activacion relu\n",
    "        x = self.fc1_drop(x) #dropout (regularizacion)\n",
    "        x = F.relu(self.fc2(x)) #capa fully connect y luego activacion relu\n",
    "        x = self.fc2_drop(x) #dropout (regularizacion)\n",
    "        x = self.fc3(x)\n",
    "        return F.log_softmax(x, dim=1) #soft max (estimacion estadistica 0-1 de la probabildad de que sea de un etiqueta u otra)\n",
    "    \n",
    "    \n",
    "    "
   ]
  },
  {
   "cell_type": "markdown",
   "metadata": {},
   "source": [
    "## Convolutional"
   ]
  },
  {
   "cell_type": "markdown",
   "metadata": {},
   "source": [
    "Recuerda que para calcular la dimensión del output de cada capa convolucional debes tener en cuenta esta regla. \n",
    "\n",
    "<img src=\"./images/output_size.png\" alt=\"Drawing\" style=\"width: 400px;\"/>\n",
    "\n",
    "Por ejemplo en la primera **convolucion** tenemos:\n",
    "\n",
    "K (kernels = 5)\n",
    "Pading = 0\n",
    "Stride = 1\n",
    "(32-5+0)+1 = 27 + 1 = 28\n",
    "\n",
    "Las capas de **pooling** dividen la entrada (pooling 2 divide por 2)\n"
   ]
  },
  {
   "cell_type": "code",
   "execution_count": 46,
   "metadata": {},
   "outputs": [],
   "source": [
    "class Net(nn.Module):\n",
    "    \n",
    "  def __init__(self):\n",
    "    super(Net, self).__init__()  # pre Python 3.3 syntax\n",
    "\n",
    "    self.conv1 = nn.Conv2d(3, 32, 5)  # chnl-in, out, krnl\n",
    "    self.conv2 = nn.Conv2d(32, 64, 5)\n",
    "    self.fc1 = nn.Linear(64*5*5, 512)   # [64*4*4, x]\n",
    "    self.fc2 = nn.Linear(512, 256)\n",
    "    self.fc3 = nn.Linear(256, 10)     # 10 classes\n",
    "    self.pool1 = nn.MaxPool2d(2, stride=2)\n",
    "    self.pool2 = nn.MaxPool2d(2, stride=2)\n",
    "    self.drop1 = nn.Dropout(0.25)\n",
    "    self.drop2 = nn.Dropout(0.50)\n",
    "\n",
    "  def forward(self, x):\n",
    "      # convolution phase         # x is [bs, 3, 32, 32]\n",
    "      z = F.relu(self.conv1(x))   # Size([bs, 32, 28, 28])\n",
    "      z = self.pool1(z)           # Size([bs, 32, 14, 14])\n",
    "      z = self.drop1(z)\n",
    "      z = F.relu(self.conv2(z))   # Size([bs, 64, 10, 10])\n",
    "      z = self.pool2(z)           # Size([bs, 64, 5, 5])\n",
    "\n",
    "      # neural network phase\n",
    "      z = z.reshape(-1, 64*5*5)     # Size([bs, 1024])\n",
    "      z = F.relu(self.fc1(z))     # Size([bs, 512])\n",
    "      z = self.drop2(z)\n",
    "      z = F.relu(self.fc2(z))     # Size([bs, 256])\n",
    "      z = self.fc3(z)             # Size([bs, 10])\n",
    "      return z"
   ]
  },
  {
   "cell_type": "code",
   "execution_count": 35,
   "metadata": {},
   "outputs": [
    {
     "data": {
      "text/plain": [
       "device(type='cuda')"
      ]
     },
     "execution_count": 35,
     "metadata": {},
     "output_type": "execute_result"
    }
   ],
   "source": [
    "#device = torch.device('cuda' if torch.cuda.is_available() else 'cpu')\n",
    "device = torch.device('cuda')\n",
    "device"
   ]
  },
  {
   "cell_type": "code",
   "execution_count": 47,
   "metadata": {},
   "outputs": [],
   "source": [
    "model = Net().to(device)\n",
    "optimizer = optim.SGD(model.parameters(), lr=learning_rate,\n",
    "                      momentum=momentum)\n",
    "\n",
    "scheduler = optim.lr_scheduler.StepLR(optimizer, step_size=2, gamma=0.5)\n",
    "criterion =  nn.CrossEntropyLoss().to(device)\n"
   ]
  },
  {
   "cell_type": "code",
   "execution_count": 37,
   "metadata": {},
   "outputs": [],
   "source": [
    "def count_parameters(model):\n",
    "    return sum(p.numel() for p in model.parameters() if p.requires_grad)"
   ]
  },
  {
   "cell_type": "code",
   "execution_count": 30,
   "metadata": {},
   "outputs": [
    {
     "data": {
      "text/plain": [
       "712394"
      ]
     },
     "execution_count": 30,
     "metadata": {},
     "output_type": "execute_result"
    }
   ],
   "source": [
    "count_parameters(model)"
   ]
  },
  {
   "cell_type": "code",
   "execution_count": 48,
   "metadata": {},
   "outputs": [
    {
     "data": {
      "text/plain": [
       "Net(\n",
       "  (conv1): Conv2d(3, 32, kernel_size=(5, 5), stride=(1, 1))\n",
       "  (conv2): Conv2d(32, 64, kernel_size=(5, 5), stride=(1, 1))\n",
       "  (fc1): Linear(in_features=1600, out_features=512, bias=True)\n",
       "  (fc2): Linear(in_features=512, out_features=256, bias=True)\n",
       "  (fc3): Linear(in_features=256, out_features=10, bias=True)\n",
       "  (pool1): MaxPool2d(kernel_size=2, stride=2, padding=0, dilation=1, ceil_mode=False)\n",
       "  (pool2): MaxPool2d(kernel_size=2, stride=2, padding=0, dilation=1, ceil_mode=False)\n",
       "  (drop1): Dropout(p=0.25, inplace=False)\n",
       "  (drop2): Dropout(p=0.5, inplace=False)\n",
       ")"
      ]
     },
     "execution_count": 48,
     "metadata": {},
     "output_type": "execute_result"
    }
   ],
   "source": [
    "model"
   ]
  },
  {
   "cell_type": "code",
   "execution_count": 32,
   "metadata": {},
   "outputs": [],
   "source": [
    "import time\n",
    "\n",
    "def train(model, optimizer, loss_fn, train_dl, val_dl, epochs=20, device='cuda'):\n",
    "    '''\n",
    "    Runs training loop for classification problems. Returns Keras-style\n",
    "    per-epoch history of loss and accuracy over training and validation data.\n",
    "\n",
    "    Parametros\n",
    "    ----------\n",
    "    model : nn.Module\n",
    "        Neural network model\n",
    "    optimizer : torch.optim.Optimizer\n",
    "        Search space optimizer (e.g. Adam)\n",
    "    loss_fn :\n",
    "        Funcion de perdida (e.g. nn.CrossEntropyLoss())\n",
    "    train_dl : \n",
    "        Dataloader para los datos de entrenamiento.\n",
    "    val_dl :\n",
    "        Dataloader para los datos de validacion.\n",
    "    epochs : int\n",
    "        Numero de epocas\n",
    "    device : string\n",
    "        'cuda' para entrenamiento en gpu y 'cpu' para entrenamiento en cpu\n",
    "\n",
    "    Retorno\n",
    "    -------\n",
    "    Diccionario\n",
    "        Similar to Keras' fit(), the output dictionary contains per-epoch\n",
    "        history of training loss, training accuracy, validation loss, and\n",
    "        validation accuracy.\n",
    "    '''\n",
    "\n",
    "    print('train() called: model=%s, opt=%s(lr=%f), epochs=%d, device=%s\\n' % \\\n",
    "          (type(model).__name__, type(optimizer).__name__,\n",
    "           optimizer.param_groups[0]['lr'], epochs, device))\n",
    "\n",
    "    history = {} # Collects per-epoch loss and acc like Keras' fit().\n",
    "    history['loss'] = []\n",
    "    history['val_loss'] = []\n",
    "    history['acc'] = []\n",
    "    history['val_acc'] = []\n",
    "\n",
    "    start_time_sec = time.time()\n",
    "\n",
    "    for epoch in range(epochs):\n",
    "\n",
    "        # --- Entrenamiento en los datos de entrenamientos -----------------------------\n",
    "        model.train() #modelo en forma de entrenamiento    \n",
    "        train_loss         = 0.0 #perdida inicializada en cero\n",
    "        num_train_correct  = 0 #numero de elementos donde la prediccion coincide con la etiqueta \"true positive\"\n",
    "        num_train_examples = 0 #inicializa el numero de elementos sobre los que se ha realizado entrenamiento\n",
    "\n",
    "        for batch in train_dl:\n",
    "\n",
    "            optimizer.zero_grad() #pone los gradientes a cero\n",
    "\n",
    "            x    = batch[0].to(device) #datos al dispositivo (cpu o gpu)\n",
    "            y    = batch[1].to(device) #idem\n",
    "            yhat = model(x) # y predichos \n",
    "            loss = loss_fn(yhat, y) #calcula la perdida entre los \"y predichos\" y los \"y etiquetas\"\n",
    "\n",
    "            loss.backward() #retropropagación\n",
    "            optimizer.step() #se mueve el gradiente un paso (learning rate por el gradiente negativo)\n",
    "\n",
    "            train_loss         += loss.data.item() * x.size(0) \n",
    "            num_train_correct  += (torch.max(yhat, 1)[1] == y).sum().item() #compureba los elementos correctos\n",
    "            num_train_examples += x.shape[0]\n",
    "\n",
    "        train_acc   = num_train_correct / num_train_examples\n",
    "        train_loss  = train_loss / len(train_dl.dataset)\n",
    "\n",
    "\n",
    "        # --- Evaluacion en los datos de test -------------------------------------\n",
    "        model.eval() #capas de droput y normalizacion apagadas\n",
    "        val_loss       = 0.0\n",
    "        num_val_correct  = 0\n",
    "        num_val_examples = 0\n",
    "\n",
    "        for batch in val_dl:\n",
    "            with torch.no_grad(): #gradiente desactivados (menos memoria mas rapido)\n",
    "                x    = batch[0].to(device)\n",
    "                y    = batch[1].to(device)\n",
    "                yhat = model(x)\n",
    "                loss = loss_fn(yhat, y)\n",
    "\n",
    "                val_loss         += loss.data.item() * x.size(0)\n",
    "                num_val_correct  += (torch.max(yhat, 1)[1] == y).sum().item()\n",
    "                num_val_examples += y.shape[0]\n",
    "\n",
    "        val_acc  = num_val_correct / num_val_examples\n",
    "        val_loss = val_loss / len(val_dl.dataset)\n",
    "\n",
    "\n",
    "        print('Epoch %3d/%3d, train loss: %5.2f, train acc: %5.2f, val loss: %5.2f, val acc: %5.2f' % \\\n",
    "              (epoch+1, epochs, train_loss, train_acc, val_loss, val_acc))\n",
    "\n",
    "        history['loss'].append(train_loss)\n",
    "        history['val_loss'].append(val_loss)\n",
    "        history['acc'].append(train_acc)\n",
    "        history['val_acc'].append(val_acc)\n",
    "\n",
    "    # END OF TRAINING LOOP\n",
    "\n",
    "\n",
    "    end_time_sec       = time.time()\n",
    "    total_time_sec     = end_time_sec - start_time_sec\n",
    "    time_per_epoch_sec = total_time_sec / epochs\n",
    "    print()\n",
    "    print('Time total:     %5.2f sec' % (total_time_sec))\n",
    "    print('Time per epoch: %5.2f sec' % (time_per_epoch_sec))\n",
    "\n",
    "    return history"
   ]
  },
  {
   "cell_type": "code",
   "execution_count": 49,
   "metadata": {},
   "outputs": [
    {
     "name": "stdout",
     "output_type": "stream",
     "text": [
      "train() called: model=Net, opt=SGD(lr=0.001000), epochs=20, device=cuda\n",
      "\n",
      "Epoch   1/ 20, train loss:  1.63, train acc:  0.40, val loss:  1.29, val acc:  0.54\n",
      "Epoch   2/ 20, train loss:  1.22, train acc:  0.57, val loss:  1.09, val acc:  0.61\n",
      "Epoch   3/ 20, train loss:  1.04, train acc:  0.64, val loss:  0.99, val acc:  0.65\n",
      "Epoch   4/ 20, train loss:  0.93, train acc:  0.68, val loss:  0.88, val acc:  0.70\n",
      "Epoch   5/ 20, train loss:  0.85, train acc:  0.70, val loss:  0.83, val acc:  0.72\n",
      "Epoch   6/ 20, train loss:  0.79, train acc:  0.73, val loss:  0.78, val acc:  0.73\n",
      "Epoch   7/ 20, train loss:  0.74, train acc:  0.74, val loss:  0.81, val acc:  0.72\n",
      "Epoch   8/ 20, train loss:  0.69, train acc:  0.76, val loss:  0.78, val acc:  0.74\n",
      "Epoch   9/ 20, train loss:  0.65, train acc:  0.77, val loss:  0.77, val acc:  0.73\n",
      "Epoch  10/ 20, train loss:  0.62, train acc:  0.78, val loss:  0.77, val acc:  0.74\n",
      "Epoch  11/ 20, train loss:  0.59, train acc:  0.79, val loss:  0.75, val acc:  0.75\n",
      "Epoch  12/ 20, train loss:  0.56, train acc:  0.80, val loss:  0.76, val acc:  0.75\n",
      "Epoch  13/ 20, train loss:  0.54, train acc:  0.81, val loss:  0.74, val acc:  0.76\n",
      "Epoch  14/ 20, train loss:  0.52, train acc:  0.82, val loss:  0.75, val acc:  0.75\n",
      "Epoch  15/ 20, train loss:  0.50, train acc:  0.82, val loss:  0.76, val acc:  0.75\n",
      "Epoch  16/ 20, train loss:  0.49, train acc:  0.83, val loss:  0.78, val acc:  0.74\n",
      "Epoch  17/ 20, train loss:  0.47, train acc:  0.84, val loss:  0.76, val acc:  0.75\n",
      "Epoch  18/ 20, train loss:  0.45, train acc:  0.84, val loss:  0.73, val acc:  0.76\n",
      "Epoch  19/ 20, train loss:  0.43, train acc:  0.85, val loss:  0.76, val acc:  0.75\n",
      "Epoch  20/ 20, train loss:  0.43, train acc:  0.85, val loss:  0.76, val acc:  0.75\n",
      "\n",
      "Time total:     1557.26 sec\n",
      "Time per epoch: 77.86 sec\n"
     ]
    }
   ],
   "source": [
    "history = train(model,optimizer,criterion, train_loader, test_loader, n_epochs, 'cuda')"
   ]
  },
  {
   "cell_type": "code",
   "execution_count": null,
   "metadata": {},
   "outputs": [],
   "source": [
    "torch.save(model.state_dict(), 'results/model.pth')\n",
    "torch.save(optimizer.state_dict(), 'results/optimizer.pth')"
   ]
  },
  {
   "cell_type": "code",
   "execution_count": 50,
   "metadata": {},
   "outputs": [
    {
     "ename": "RuntimeError",
     "evalue": "Error(s) in loading state_dict for Net:\n\tMissing key(s) in state_dict: \"fc3.weight\", \"fc3.bias\". \n\tsize mismatch for conv1.weight: copying a param with shape torch.Size([10, 1, 5, 5]) from checkpoint, the shape in current model is torch.Size([32, 3, 5, 5]).\n\tsize mismatch for conv1.bias: copying a param with shape torch.Size([10]) from checkpoint, the shape in current model is torch.Size([32]).\n\tsize mismatch for conv2.weight: copying a param with shape torch.Size([20, 10, 5, 5]) from checkpoint, the shape in current model is torch.Size([64, 32, 5, 5]).\n\tsize mismatch for conv2.bias: copying a param with shape torch.Size([20]) from checkpoint, the shape in current model is torch.Size([64]).\n\tsize mismatch for fc1.weight: copying a param with shape torch.Size([50, 320]) from checkpoint, the shape in current model is torch.Size([512, 1600]).\n\tsize mismatch for fc1.bias: copying a param with shape torch.Size([50]) from checkpoint, the shape in current model is torch.Size([512]).\n\tsize mismatch for fc2.weight: copying a param with shape torch.Size([10, 50]) from checkpoint, the shape in current model is torch.Size([256, 512]).\n\tsize mismatch for fc2.bias: copying a param with shape torch.Size([10]) from checkpoint, the shape in current model is torch.Size([256]).",
     "output_type": "error",
     "traceback": [
      "\u001b[1;31m---------------------------------------------------------------------------\u001b[0m",
      "\u001b[1;31mRuntimeError\u001b[0m                              Traceback (most recent call last)",
      "\u001b[1;32md:\\code\\pytorch_mnist\\cifar.ipynb Cell 40\u001b[0m in \u001b[0;36m<cell line: 1>\u001b[1;34m()\u001b[0m\n\u001b[1;32m----> <a href='vscode-notebook-cell:/d%3A/code/pytorch_mnist/cifar.ipynb#X53sZmlsZQ%3D%3D?line=0'>1</a>\u001b[0m model\u001b[39m.\u001b[39;49mload_state_dict(torch\u001b[39m.\u001b[39;49mload(\u001b[39m'\u001b[39;49m\u001b[39mresults/model.pth\u001b[39;49m\u001b[39m'\u001b[39;49m))\n\u001b[0;32m      <a href='vscode-notebook-cell:/d%3A/code/pytorch_mnist/cifar.ipynb#X53sZmlsZQ%3D%3D?line=1'>2</a>\u001b[0m model\u001b[39m.\u001b[39meval()\n",
      "File \u001b[1;32mc:\\Users\\jose\\anaconda3\\envs\\pytorch\\lib\\site-packages\\torch\\nn\\modules\\module.py:1604\u001b[0m, in \u001b[0;36mModule.load_state_dict\u001b[1;34m(self, state_dict, strict)\u001b[0m\n\u001b[0;32m   1599\u001b[0m         error_msgs\u001b[39m.\u001b[39minsert(\n\u001b[0;32m   1600\u001b[0m             \u001b[39m0\u001b[39m, \u001b[39m'\u001b[39m\u001b[39mMissing key(s) in state_dict: \u001b[39m\u001b[39m{}\u001b[39;00m\u001b[39m. \u001b[39m\u001b[39m'\u001b[39m\u001b[39m.\u001b[39mformat(\n\u001b[0;32m   1601\u001b[0m                 \u001b[39m'\u001b[39m\u001b[39m, \u001b[39m\u001b[39m'\u001b[39m\u001b[39m.\u001b[39mjoin(\u001b[39m'\u001b[39m\u001b[39m\"\u001b[39m\u001b[39m{}\u001b[39;00m\u001b[39m\"\u001b[39m\u001b[39m'\u001b[39m\u001b[39m.\u001b[39mformat(k) \u001b[39mfor\u001b[39;00m k \u001b[39min\u001b[39;00m missing_keys)))\n\u001b[0;32m   1603\u001b[0m \u001b[39mif\u001b[39;00m \u001b[39mlen\u001b[39m(error_msgs) \u001b[39m>\u001b[39m \u001b[39m0\u001b[39m:\n\u001b[1;32m-> 1604\u001b[0m     \u001b[39mraise\u001b[39;00m \u001b[39mRuntimeError\u001b[39;00m(\u001b[39m'\u001b[39m\u001b[39mError(s) in loading state_dict for \u001b[39m\u001b[39m{}\u001b[39;00m\u001b[39m:\u001b[39m\u001b[39m\\n\u001b[39;00m\u001b[39m\\t\u001b[39;00m\u001b[39m{}\u001b[39;00m\u001b[39m'\u001b[39m\u001b[39m.\u001b[39mformat(\n\u001b[0;32m   1605\u001b[0m                        \u001b[39mself\u001b[39m\u001b[39m.\u001b[39m\u001b[39m__class__\u001b[39m\u001b[39m.\u001b[39m\u001b[39m__name__\u001b[39m, \u001b[39m\"\u001b[39m\u001b[39m\\n\u001b[39;00m\u001b[39m\\t\u001b[39;00m\u001b[39m\"\u001b[39m\u001b[39m.\u001b[39mjoin(error_msgs)))\n\u001b[0;32m   1606\u001b[0m \u001b[39mreturn\u001b[39;00m _IncompatibleKeys(missing_keys, unexpected_keys)\n",
      "\u001b[1;31mRuntimeError\u001b[0m: Error(s) in loading state_dict for Net:\n\tMissing key(s) in state_dict: \"fc3.weight\", \"fc3.bias\". \n\tsize mismatch for conv1.weight: copying a param with shape torch.Size([10, 1, 5, 5]) from checkpoint, the shape in current model is torch.Size([32, 3, 5, 5]).\n\tsize mismatch for conv1.bias: copying a param with shape torch.Size([10]) from checkpoint, the shape in current model is torch.Size([32]).\n\tsize mismatch for conv2.weight: copying a param with shape torch.Size([20, 10, 5, 5]) from checkpoint, the shape in current model is torch.Size([64, 32, 5, 5]).\n\tsize mismatch for conv2.bias: copying a param with shape torch.Size([20]) from checkpoint, the shape in current model is torch.Size([64]).\n\tsize mismatch for fc1.weight: copying a param with shape torch.Size([50, 320]) from checkpoint, the shape in current model is torch.Size([512, 1600]).\n\tsize mismatch for fc1.bias: copying a param with shape torch.Size([50]) from checkpoint, the shape in current model is torch.Size([512]).\n\tsize mismatch for fc2.weight: copying a param with shape torch.Size([10, 50]) from checkpoint, the shape in current model is torch.Size([256, 512]).\n\tsize mismatch for fc2.bias: copying a param with shape torch.Size([10]) from checkpoint, the shape in current model is torch.Size([256])."
     ]
    }
   ],
   "source": [
    "model.load_state_dict(torch.load('results/model.pth'))\n",
    "model.eval()"
   ]
  },
  {
   "cell_type": "code",
   "execution_count": 51,
   "metadata": {},
   "outputs": [],
   "source": [
    "import matplotlib.pyplot as plt"
   ]
  },
  {
   "cell_type": "code",
   "execution_count": 52,
   "metadata": {},
   "outputs": [
    {
     "data": {
      "text/plain": [
       "(0.0, 3.0)"
      ]
     },
     "execution_count": 52,
     "metadata": {},
     "output_type": "execute_result"
    },
    {
     "data": {
      "image/png": "[encoded data removed]",
      "text/plain": [
       "<Figure size 432x288 with 1 Axes>"
      ]
     },
     "metadata": {
      "needs_background": "light"
     },
     "output_type": "display_data"
    }
   ],
   "source": [
    "fig = plt.figure()\n",
    "plt.plot(range(len(history['loss'])), history['loss'], 'bo', label='Training loss')\n",
    "plt.plot(range(len(history['val_loss'])), history['val_loss'], c=\"red\",label='Val loss')\n",
    "plt.title('Training and test loss')\n",
    "plt.legend()\n",
    "plt.ylim([0, 3])"
   ]
  },
  {
   "cell_type": "code",
   "execution_count": 53,
   "metadata": {},
   "outputs": [
    {
     "data": {
      "text/plain": [
       "(0.0, 1.0)"
      ]
     },
     "execution_count": 53,
     "metadata": {},
     "output_type": "execute_result"
    },
    {
     "data": {
      "image/png": "[encoded data removed]",
      "text/plain": [
       "<Figure size 432x288 with 1 Axes>"
      ]
     },
     "metadata": {
      "needs_background": "light"
     },
     "output_type": "display_data"
    }
   ],
   "source": [
    "fig = plt.figure()\n",
    "plt.plot(range(len(history['acc'])), history['acc'], 'bo', label='Training acc')\n",
    "plt.plot(range(len(history['val_acc'])), history['val_acc'], c=\"red\",label='Val acc')\n",
    "plt.title('Training and test acc')\n",
    "plt.legend()\n",
    "plt.ylim([0, 1])"
   ]
  }
 ],
 "metadata": {
  "kernelspec": {
   "display_name": "Python 3.10.4 ('pytorch')",
   "language": "python",
   "name": "python3"
  },
  "language_info": {
   "codemirror_mode": {
    "name": "ipython",
    "version": 3
   },
   "file_extension": ".py",
   "mimetype": "text/x-python",
   "name": "python",
   "nbconvert_exporter": "python",
   "pygments_lexer": "ipython3",
   "version": "3.10.4"
  },
  "orig_nbformat": 4,
  "vscode": {
   "interpreter": {
    "hash": "10924a18004a67fec4ca520671884f363c8f96c2bbf22c2f0b2adbd21b6731df"
   }
  }
 },
 "nbformat": 4,
 "nbformat_minor": 2
}
