{
 "cells": [
  {
   "cell_type": "markdown",
   "metadata": {},
   "source": [
    "# Pytorch\n",
    "Ejemplo de clasificador con Pytorch, comentado en español. \n",
    "\n",
    "El cuaderno de Jupyter se ha desarrollado con Visual Code y puedes encontrar el código en https://github.com/josegemez/pytorch_mnist \n",
    "\n",
    "Se ha desarrollado en python 3.10.4 "
   ]
  },
  {
   "cell_type": "markdown",
   "metadata": {},
   "source": [
    "## Import\n",
    "Con las primeras lineas vamos a importar los paquetes que básicos de Pytorch. "
   ]
  },
  {
   "cell_type": "code",
   "execution_count": 1,
   "metadata": {},
   "outputs": [],
   "source": [
    "import torch\n",
    "import torchvision\n",
    "import torchvision.transforms as transforms\n",
    "import numpy as np"
   ]
  },
  {
   "cell_type": "markdown",
   "metadata": {},
   "source": [
    "## Variables Generales"
   ]
  },
  {
   "cell_type": "code",
   "execution_count": 2,
   "metadata": {},
   "outputs": [],
   "source": [
    "batch_size_train = 4\n",
    "batch_size_test = 4"
   ]
  },
  {
   "cell_type": "markdown",
   "metadata": {},
   "source": [
    "## Transformaciones "
   ]
  },
  {
   "cell_type": "code",
   "execution_count": 3,
   "metadata": {},
   "outputs": [],
   "source": [
    "transforms=torchvision.transforms.Compose([\n",
    "                            torchvision.transforms.ToTensor(),\n",
    "                            torchvision.transforms.Normalize((0.5, 0.5, 0.5), (0.5, 0.5, 0.5)) #media y desviacion estandar para el dataset de cifar en concreto\n",
    "                            ])"
   ]
  },
  {
   "cell_type": "markdown",
   "metadata": {},
   "source": [
    "## Dataset "
   ]
  },
  {
   "cell_type": "code",
   "execution_count": 4,
   "metadata": {},
   "outputs": [
    {
     "name": "stdout",
     "output_type": "stream",
     "text": [
      "Files already downloaded and verified\n"
     ]
    }
   ],
   "source": [
    "dataset_cifar_train = torchvision.datasets.CIFAR10(root='./data', train=True,\n",
    "                                        download=True, transform=transforms)  #descarga el dataset de pytorch                  "
   ]
  },
  {
   "cell_type": "markdown",
   "metadata": {},
   "source": [
    "## Dataloader"
   ]
  },
  {
   "cell_type": "code",
   "execution_count": 5,
   "metadata": {},
   "outputs": [],
   "source": [
    "train_loader = torch.utils.data.DataLoader(dataset_cifar_train,  batch_size=batch_size_train, shuffle=True,num_workers=0,pin_memory=True) #cargador de los datos en batch de entrenamiento"
   ]
  },
  {
   "cell_type": "code",
   "execution_count": 6,
   "metadata": {},
   "outputs": [],
   "source": [
    "classes = ('plane', 'car', 'bird', 'cat',\n",
    "           'deer', 'dog', 'frog', 'horse', 'ship', 'truck')"
   ]
  },
  {
   "cell_type": "markdown",
   "metadata": {},
   "source": [
    "Vamos a ver que \"pinta\" tiene cada elemento del cargador"
   ]
  },
  {
   "cell_type": "code",
   "execution_count": 7,
   "metadata": {},
   "outputs": [],
   "source": [
    "x, y = next(iter(train_loader)) #asignamos el primer batch a las variables x e y. La variable X contrendra las imagenes e y contrendra las etiquetas"
   ]
  },
  {
   "cell_type": "markdown",
   "metadata": {},
   "source": [
    "x es un batch, por lo que la primera dimensión coincidira con el batch size "
   ]
  },
  {
   "cell_type": "code",
   "execution_count": 8,
   "metadata": {},
   "outputs": [],
   "source": [
    "from matplotlib.pyplot import imshow"
   ]
  },
  {
   "cell_type": "code",
   "execution_count": 9,
   "metadata": {},
   "outputs": [],
   "source": [
    "img0 = x[0].numpy()\n",
    "img0 = img0/ 2 + 0.5 #para quitar la normalizacion que hemos hecho antes con los transform"
   ]
  },
  {
   "cell_type": "code",
   "execution_count": 10,
   "metadata": {},
   "outputs": [
    {
     "data": {
      "image/png": "[encoded data removed]",
      "text/plain": [
       "<Figure size 640x480 with 1 Axes>"
      ]
     },
     "metadata": {},
     "output_type": "display_data"
    }
   ],
   "source": [
    "imshow(np.transpose(img0, (1, 2, 0))); # transformamos el primer elemento del batch una matriz de numpy y mostramos con matplotlib"
   ]
  },
  {
   "cell_type": "code",
   "execution_count": 11,
   "metadata": {},
   "outputs": [
    {
     "data": {
      "text/plain": [
       "tensor([[[[-0.9294, -0.9686, -0.9529,  ..., -0.9765, -0.9765, -0.9765],\n",
       "          [-0.8824, -0.9059, -0.9059,  ..., -0.9608, -0.9608, -0.9608],\n",
       "          [-0.8667, -0.8745, -0.8745,  ..., -0.9451, -0.9451, -0.9451],\n",
       "          ...,\n",
       "          [ 0.1529,  0.1529,  0.2000,  ...,  0.2941,  0.1373, -0.0824],\n",
       "          [ 0.2471,  0.3255,  0.4510,  ...,  0.1294, -0.0431, -0.1216],\n",
       "          [ 0.3333,  0.3490,  0.4196,  ..., -0.0196, -0.0588,  0.0353]],\n",
       "\n",
       "         [[-0.9216, -0.9608, -0.9451,  ..., -0.9765, -0.9765, -0.9765],\n",
       "          [-0.8745, -0.8980, -0.8980,  ..., -0.9608, -0.9608, -0.9608],\n",
       "          [-0.8588, -0.8667, -0.8667,  ..., -0.9451, -0.9451, -0.9451],\n",
       "          ...,\n",
       "          [ 0.1216,  0.1216,  0.1686,  ...,  0.2941,  0.1294, -0.0902],\n",
       "          [ 0.2235,  0.3020,  0.4275,  ...,  0.1686, -0.0275, -0.1137],\n",
       "          [ 0.3020,  0.3255,  0.3961,  ...,  0.0588, -0.0118,  0.0588]],\n",
       "\n",
       "         [[-0.9059, -0.9451, -0.9294,  ..., -0.9765, -0.9765, -0.9765],\n",
       "          [-0.8588, -0.8824, -0.8824,  ..., -0.9608, -0.9608, -0.9608],\n",
       "          [-0.8431, -0.8510, -0.8510,  ..., -0.9451, -0.9451, -0.9451],\n",
       "          ...,\n",
       "          [ 0.0275,  0.0275,  0.0824,  ...,  0.2471,  0.1059, -0.0980],\n",
       "          [ 0.1529,  0.2235,  0.3490,  ...,  0.1294, -0.0275, -0.0980],\n",
       "          [ 0.2314,  0.2549,  0.3255,  ...,  0.0431,  0.0039,  0.0824]]],\n",
       "\n",
       "\n",
       "        [[[-0.7882, -0.8039, -0.4902,  ...,  0.0431,  0.2784,  0.4980],\n",
       "          [-0.8196, -0.8196, -0.5843,  ..., -0.1059,  0.0118,  0.2157],\n",
       "          [-0.8745, -0.7961, -0.7098,  ..., -0.3725, -0.1529,  0.1608],\n",
       "          ...,\n",
       "          [-0.4196, -0.4118, -0.3647,  ...,  0.2000,  0.2627,  0.2471],\n",
       "          [-0.4275, -0.4275, -0.4118,  ...,  0.2078,  0.2627,  0.2627],\n",
       "          [-0.4824, -0.4902, -0.5294,  ...,  0.2314,  0.2392,  0.2784]],\n",
       "\n",
       "         [[-0.6314, -0.7490, -0.4118,  ...,  0.2314,  0.4196,  0.6235],\n",
       "          [-0.7098, -0.7490, -0.4745,  ...,  0.1529,  0.2157,  0.3490],\n",
       "          [-0.7804, -0.7490, -0.6235,  ..., -0.0588,  0.1294,  0.3255],\n",
       "          ...,\n",
       "          [-0.2157, -0.2157, -0.1686,  ..., -0.0039,  0.0196, -0.0039],\n",
       "          [-0.2000, -0.2314, -0.2235,  ..., -0.0039,  0.0196,  0.0118],\n",
       "          [-0.2471, -0.2471, -0.2863,  ...,  0.0118, -0.0118,  0.0353]],\n",
       "\n",
       "         [[-0.8902, -0.8824, -0.6392,  ...,  0.0588,  0.3176,  0.5216],\n",
       "          [-0.9059, -0.9059, -0.7333,  ..., -0.1765,  0.0196,  0.2471],\n",
       "          [-0.8980, -0.8510, -0.7961,  ..., -0.4824, -0.2157,  0.1843],\n",
       "          ...,\n",
       "          [-0.8275, -0.8588, -0.8039,  ..., -0.1059, -0.0667, -0.0902],\n",
       "          [-0.8118, -0.8431, -0.8275,  ..., -0.0980, -0.0667, -0.0667],\n",
       "          [-0.8275, -0.8196, -0.8353,  ..., -0.0745, -0.0980, -0.0510]]],\n",
       "\n",
       "\n",
       "        [[[-0.1216, -0.1608, -0.1451,  ..., -0.0745,  0.4039,  0.1373],\n",
       "          [-0.2235, -0.2314, -0.2784,  ...,  0.3804,  0.7961,  0.4510],\n",
       "          [-0.1608, -0.2157, -0.2471,  ...,  0.0667,  0.1294,  0.2314],\n",
       "          ...,\n",
       "          [ 0.2392,  0.2549,  0.2314,  ..., -0.3725, -0.3569, -0.3804],\n",
       "          [ 0.2706,  0.3176,  0.2941,  ..., -0.3176, -0.3176, -0.3333],\n",
       "          [ 0.3255,  0.2784,  0.2941,  ..., -0.3176, -0.3412, -0.3176]],\n",
       "\n",
       "         [[-0.3020, -0.3490, -0.3490,  ..., -0.2706,  0.1373, -0.1608],\n",
       "          [-0.5137, -0.5059, -0.5451,  ...,  0.1451,  0.5294,  0.1922],\n",
       "          [-0.5373, -0.5451, -0.5529,  ..., -0.1843, -0.1216,  0.0118],\n",
       "          ...,\n",
       "          [-0.1216, -0.1059, -0.1765,  ..., -0.5137, -0.5608, -0.6000],\n",
       "          [-0.0588, -0.0118, -0.1059,  ..., -0.5137, -0.5451, -0.5373],\n",
       "          [-0.0118, -0.0510, -0.0980,  ..., -0.5137, -0.5529, -0.5059]],\n",
       "\n",
       "         [[-0.3882, -0.4039, -0.3725,  ..., -0.3961, -0.0510, -0.3255],\n",
       "          [-0.6392, -0.6078, -0.6235,  ..., -0.0039,  0.3412,  0.0353],\n",
       "          [-0.6784, -0.6784, -0.6706,  ..., -0.3412, -0.2863, -0.1216],\n",
       "          ...,\n",
       "          [-0.0667, -0.0588, -0.1686,  ..., -0.6000, -0.6314, -0.6706],\n",
       "          [ 0.0196,  0.0510, -0.0980,  ..., -0.5373, -0.5608, -0.5843],\n",
       "          [ 0.0510,  0.0196, -0.0745,  ..., -0.5137, -0.5451, -0.5373]]],\n",
       "\n",
       "\n",
       "        [[[-0.8510, -0.8588, -0.9137,  ..., -0.6627, -0.6314, -0.6863],\n",
       "          [-0.9137, -0.8588, -0.8431,  ..., -0.5137, -0.6157, -0.5451],\n",
       "          [-0.9451, -0.7804, -0.7176,  ..., -0.3725, -0.5059, -0.4118],\n",
       "          ...,\n",
       "          [ 0.3882,  0.3882,  0.3882,  ...,  0.0824,  0.0667,  0.0431],\n",
       "          [ 0.3725,  0.3725,  0.3804,  ...,  0.3333,  0.3020,  0.2627],\n",
       "          [ 0.3490,  0.3490,  0.3412,  ...,  0.3569,  0.3412,  0.3412]],\n",
       "\n",
       "         [[-0.8510, -0.8588, -0.9059,  ..., -0.6784, -0.6235, -0.6784],\n",
       "          [-0.9216, -0.8745, -0.8588,  ..., -0.5843, -0.6627, -0.5843],\n",
       "          [-0.9686, -0.8196, -0.7725,  ..., -0.5059, -0.6078, -0.5059],\n",
       "          ...,\n",
       "          [ 0.3176,  0.3176,  0.3176,  ..., -0.4196, -0.4667, -0.4980],\n",
       "          [ 0.3098,  0.3098,  0.3176,  ...,  0.0510, -0.0039, -0.0510],\n",
       "          [ 0.2863,  0.2863,  0.2863,  ...,  0.2549,  0.2392,  0.2157]],\n",
       "\n",
       "         [[-0.8510, -0.8588, -0.9059,  ..., -0.7176, -0.6627, -0.7098],\n",
       "          [-0.9216, -0.8745, -0.8588,  ..., -0.6314, -0.7176, -0.6314],\n",
       "          [-0.9765, -0.8275, -0.7725,  ..., -0.5686, -0.6941, -0.5843],\n",
       "          ...,\n",
       "          [ 0.0353,  0.0353,  0.0431,  ..., -0.4824, -0.5059, -0.5294],\n",
       "          [ 0.0196,  0.0118,  0.0118,  ..., -0.1608, -0.1765, -0.2157],\n",
       "          [ 0.0039, -0.0118, -0.0353,  ..., -0.0667, -0.0431, -0.0353]]]])"
      ]
     },
     "execution_count": 11,
     "metadata": {},
     "output_type": "execute_result"
    }
   ],
   "source": [
    "x #comprobamos los datos"
   ]
  },
  {
   "cell_type": "code",
   "execution_count": 12,
   "metadata": {},
   "outputs": [
    {
     "data": {
      "text/plain": [
       "tensor([7, 7, 6, 7])"
      ]
     },
     "execution_count": 12,
     "metadata": {},
     "output_type": "execute_result"
    }
   ],
   "source": [
    "y #comprobamos las etiquetas"
   ]
  },
  {
   "cell_type": "markdown",
   "metadata": {},
   "source": [
    "## Dataset Test"
   ]
  },
  {
   "cell_type": "code",
   "execution_count": 13,
   "metadata": {},
   "outputs": [
    {
     "name": "stdout",
     "output_type": "stream",
     "text": [
      "Files already downloaded and verified\n"
     ]
    }
   ],
   "source": [
    "dataset_cifar_test = torchvision.datasets.CIFAR10(root='./data', train=False,\n",
    "                                        download=True, transform=transforms)  #descarga el dataset de pytorch    "
   ]
  },
  {
   "cell_type": "code",
   "execution_count": 14,
   "metadata": {},
   "outputs": [],
   "source": [
    "test_loader = torch.utils.data.DataLoader(dataset_cifar_test,  batch_size=batch_size_test, shuffle=True, num_workers=0,pin_memory=True)              "
   ]
  },
  {
   "cell_type": "markdown",
   "metadata": {},
   "source": [
    "Ya tenemos los datos preparados, ahora vamos a crear la red"
   ]
  },
  {
   "cell_type": "code",
   "execution_count": 15,
   "metadata": {},
   "outputs": [],
   "source": [
    "learning_rate   =   0.001\n",
    "momentum   =   0.9\n",
    "n_epochs = 20"
   ]
  },
  {
   "cell_type": "code",
   "execution_count": 16,
   "metadata": {},
   "outputs": [],
   "source": [
    "import torch.nn as nn\n",
    "import torch.nn.functional as F\n",
    "import torch.optim as optim\n",
    "from tqdm import tqdm\n",
    "import numpy as np"
   ]
  },
  {
   "cell_type": "markdown",
   "metadata": {},
   "source": [
    "## MLP"
   ]
  },
  {
   "cell_type": "code",
   "execution_count": 17,
   "metadata": {},
   "outputs": [],
   "source": [
    "class Net(nn.Module):\n",
    "    def __init__(self):\n",
    "        super(Net, self).__init__()\n",
    "        n_hidden1 = 128\n",
    "        n_hidden2 = 64\n",
    "        self.fc1 = nn.Linear(28*28,n_hidden1) #capa \"fuly connect\" entrada 28*28 (tamaño de la imagen) 50 neuronas\n",
    "        self.fc1_drop = nn.Dropout(0.2) #dropout (regularizacion) 20% \n",
    "        self.fc2 = nn.Linear(n_hidden1, n_hidden2) #capa fully connect 50 neuronas \n",
    "        self.fc2_drop = nn.Dropout(0.2) #dropout (regularizacion) 20%\n",
    "        self.fc3 = nn.Linear(n_hidden2, 10) #capa de salida numero de salida igual al de etiquetas\n",
    "\n",
    "    def forward(self, x):\n",
    "        x = x.view(-1, 28*28) #cambia la forma del tensor, -1 para quitar la dimensiones anteriores y dejarlo todo en una vector de 256 elementos\n",
    "        x = F.relu(self.fc1(x)) #capa fully connect y luego activacion relu\n",
    "        x = self.fc1_drop(x) #dropout (regularizacion)\n",
    "        x = F.relu(self.fc2(x)) #capa fully connect y luego activacion relu\n",
    "        x = self.fc2_drop(x) #dropout (regularizacion)\n",
    "        x = self.fc3(x)\n",
    "        return F.log_softmax(x, dim=1) #soft max (estimacion estadistica 0-1 de la probabildad de que sea de un etiqueta u otra)\n",
    "    \n",
    "    \n",
    "    "
   ]
  },
  {
   "cell_type": "markdown",
   "metadata": {},
   "source": [
    "## Convolutional"
   ]
  },
  {
   "cell_type": "code",
   "execution_count": 34,
   "metadata": {},
   "outputs": [],
   "source": [
    "class Net(nn.Module):\n",
    "    def __init__(self):\n",
    "        super().__init__()\n",
    "        self.conv1 = nn.Conv2d(3, 6, 5)\n",
    "        self.pool = nn.MaxPool2d(2, 2)\n",
    "        self.conv2 = nn.Conv2d(6, 16, 5)\n",
    "        self.fc1 = nn.Linear(16 * 5 * 5, 120)\n",
    "        self.fc2 = nn.Linear(120, 84)\n",
    "        self.fc3 = nn.Linear(84, 10)\n",
    "\n",
    "    def forward(self, x):\n",
    "        x = self.pool(F.relu(self.conv1(x)))\n",
    "        x = self.pool(F.relu(self.conv2(x)))\n",
    "        x = torch.flatten(x, 1) # flatten all dimensions except batch\n",
    "        x = F.relu(self.fc1(x))\n",
    "        x = F.relu(self.fc2(x))\n",
    "        x = F.log_softmax(self.fc3(x), dim=1)\n",
    "        return x"
   ]
  },
  {
   "cell_type": "code",
   "execution_count": 35,
   "metadata": {},
   "outputs": [
    {
     "data": {
      "text/plain": [
       "device(type='cuda')"
      ]
     },
     "execution_count": 35,
     "metadata": {},
     "output_type": "execute_result"
    }
   ],
   "source": [
    "#device = torch.device('cuda' if torch.cuda.is_available() else 'cpu')\n",
    "device = torch.device('cuda')\n",
    "device"
   ]
  },
  {
   "cell_type": "code",
   "execution_count": 36,
   "metadata": {},
   "outputs": [],
   "source": [
    "model = Net().to(device)\n",
    "optimizer = optim.SGD(model.parameters(), lr=learning_rate,\n",
    "                      momentum=momentum)\n",
    "\n",
    "scheduler = optim.lr_scheduler.StepLR(optimizer, step_size=2, gamma=0.5)\n",
    "criterion =  nn.CrossEntropyLoss().to(device)\n"
   ]
  },
  {
   "cell_type": "code",
   "execution_count": 37,
   "metadata": {},
   "outputs": [],
   "source": [
    "def count_parameters(model):\n",
    "    return sum(p.numel() for p in model.parameters() if p.requires_grad)"
   ]
  },
  {
   "cell_type": "code",
   "execution_count": 38,
   "metadata": {},
   "outputs": [
    {
     "data": {
      "text/plain": [
       "62006"
      ]
     },
     "execution_count": 38,
     "metadata": {},
     "output_type": "execute_result"
    }
   ],
   "source": [
    "count_parameters(model)"
   ]
  },
  {
   "cell_type": "code",
   "execution_count": 39,
   "metadata": {},
   "outputs": [
    {
     "data": {
      "text/plain": [
       "Net(\n",
       "  (conv1): Conv2d(3, 6, kernel_size=(5, 5), stride=(1, 1))\n",
       "  (pool): MaxPool2d(kernel_size=2, stride=2, padding=0, dilation=1, ceil_mode=False)\n",
       "  (conv2): Conv2d(6, 16, kernel_size=(5, 5), stride=(1, 1))\n",
       "  (fc1): Linear(in_features=400, out_features=120, bias=True)\n",
       "  (fc2): Linear(in_features=120, out_features=84, bias=True)\n",
       "  (fc3): Linear(in_features=84, out_features=10, bias=True)\n",
       ")"
      ]
     },
     "execution_count": 39,
     "metadata": {},
     "output_type": "execute_result"
    }
   ],
   "source": [
    "model"
   ]
  },
  {
   "cell_type": "code",
   "execution_count": 24,
   "metadata": {},
   "outputs": [],
   "source": [
    "import time\n",
    "\n",
    "def train(model, optimizer, loss_fn, train_dl, val_dl, epochs=20, device='cuda'):\n",
    "    '''\n",
    "    Runs training loop for classification problems. Returns Keras-style\n",
    "    per-epoch history of loss and accuracy over training and validation data.\n",
    "\n",
    "    Parametros\n",
    "    ----------\n",
    "    model : nn.Module\n",
    "        Neural network model\n",
    "    optimizer : torch.optim.Optimizer\n",
    "        Search space optimizer (e.g. Adam)\n",
    "    loss_fn :\n",
    "        Funcion de perdida (e.g. nn.CrossEntropyLoss())\n",
    "    train_dl : \n",
    "        Dataloader para los datos de entrenamiento.\n",
    "    val_dl :\n",
    "        Dataloader para los datos de validacion.\n",
    "    epochs : int\n",
    "        Numero de epocas\n",
    "    device : string\n",
    "        'cuda' para entrenamiento en gpu y 'cpu' para entrenamiento en cpu\n",
    "\n",
    "    Retorno\n",
    "    -------\n",
    "    Diccionario\n",
    "        Similar to Keras' fit(), the output dictionary contains per-epoch\n",
    "        history of training loss, training accuracy, validation loss, and\n",
    "        validation accuracy.\n",
    "    '''\n",
    "\n",
    "    print('train() called: model=%s, opt=%s(lr=%f), epochs=%d, device=%s\\n' % \\\n",
    "          (type(model).__name__, type(optimizer).__name__,\n",
    "           optimizer.param_groups[0]['lr'], epochs, device))\n",
    "\n",
    "    history = {} # Collects per-epoch loss and acc like Keras' fit().\n",
    "    history['loss'] = []\n",
    "    history['val_loss'] = []\n",
    "    history['acc'] = []\n",
    "    history['val_acc'] = []\n",
    "\n",
    "    start_time_sec = time.time()\n",
    "\n",
    "    for epoch in range(epochs):\n",
    "\n",
    "        # --- Entrenamiento en los datos de entrenamientos -----------------------------\n",
    "        model.train() #modelo en forma de entrenamiento    \n",
    "        train_loss         = 0.0 #perdida inicializada en cero\n",
    "        num_train_correct  = 0 #numero de elementos donde la prediccion coincide con la etiqueta \"true positive\"\n",
    "        num_train_examples = 0 #inicializa el numero de elementos sobre los que se ha realizado entrenamiento\n",
    "\n",
    "        for batch in train_dl:\n",
    "\n",
    "            optimizer.zero_grad() #pone los gradientes a cero\n",
    "\n",
    "            x    = batch[0].to(device) #datos al dispositivo (cpu o gpu)\n",
    "            y    = batch[1].to(device) #idem\n",
    "            yhat = model(x) # y predichos \n",
    "            loss = loss_fn(yhat, y) #calcula la perdida entre los \"y predichos\" y los \"y etiquetas\"\n",
    "\n",
    "            loss.backward() #retropropagación\n",
    "            optimizer.step() #se mueve el gradiente un paso (learning rate por el gradiente negativo)\n",
    "\n",
    "            train_loss         += loss.data.item() * x.size(0) \n",
    "            num_train_correct  += (torch.max(yhat, 1)[1] == y).sum().item() #compureba los elementos correctos\n",
    "            num_train_examples += x.shape[0]\n",
    "\n",
    "        train_acc   = num_train_correct / num_train_examples\n",
    "        train_loss  = train_loss / len(train_dl.dataset)\n",
    "\n",
    "\n",
    "        # --- Evaluacion en los datos de test -------------------------------------\n",
    "        model.eval() #capas de droput y normalizacion apagadas\n",
    "        val_loss       = 0.0\n",
    "        num_val_correct  = 0\n",
    "        num_val_examples = 0\n",
    "\n",
    "        for batch in val_dl:\n",
    "            with torch.no_grad(): #gradiente desactivados (menos memoria mas rapido)\n",
    "                x    = batch[0].to(device)\n",
    "                y    = batch[1].to(device)\n",
    "                yhat = model(x)\n",
    "                loss = loss_fn(yhat, y)\n",
    "\n",
    "                val_loss         += loss.data.item() * x.size(0)\n",
    "                num_val_correct  += (torch.max(yhat, 1)[1] == y).sum().item()\n",
    "                num_val_examples += y.shape[0]\n",
    "\n",
    "        val_acc  = num_val_correct / num_val_examples\n",
    "        val_loss = val_loss / len(val_dl.dataset)\n",
    "\n",
    "\n",
    "        print('Epoch %3d/%3d, train loss: %5.2f, train acc: %5.2f, val loss: %5.2f, val acc: %5.2f' % \\\n",
    "              (epoch+1, epochs, train_loss, train_acc, val_loss, val_acc))\n",
    "\n",
    "        history['loss'].append(train_loss)\n",
    "        history['val_loss'].append(val_loss)\n",
    "        history['acc'].append(train_acc)\n",
    "        history['val_acc'].append(val_acc)\n",
    "\n",
    "    # END OF TRAINING LOOP\n",
    "\n",
    "\n",
    "    end_time_sec       = time.time()\n",
    "    total_time_sec     = end_time_sec - start_time_sec\n",
    "    time_per_epoch_sec = total_time_sec / epochs\n",
    "    print()\n",
    "    print('Time total:     %5.2f sec' % (total_time_sec))\n",
    "    print('Time per epoch: %5.2f sec' % (time_per_epoch_sec))\n",
    "\n",
    "    return history"
   ]
  },
  {
   "cell_type": "code",
   "execution_count": 40,
   "metadata": {},
   "outputs": [
    {
     "name": "stdout",
     "output_type": "stream",
     "text": [
      "train() called: model=Net, opt=SGD(lr=0.001000), epochs=20, device=cuda\n",
      "\n"
     ]
    },
    {
     "name": "stderr",
     "output_type": "stream",
     "text": [
      "C:\\Users\\jose\\AppData\\Local\\Temp\\ipykernel_18528\\3119487061.py:17: UserWarning: Implicit dimension choice for log_softmax has been deprecated. Change the call to include dim=X as an argument.\n",
      "  x = F.log_softmax(self.fc3(x))\n"
     ]
    },
    {
     "name": "stdout",
     "output_type": "stream",
     "text": [
      "Epoch   1/ 20, train loss:  1.71, train acc:  0.37, val loss:  1.42, val acc:  0.48\n",
      "Epoch   2/ 20, train loss:  1.34, train acc:  0.52, val loss:  1.26, val acc:  0.56\n",
      "Epoch   3/ 20, train loss:  1.20, train acc:  0.57, val loss:  1.16, val acc:  0.59\n",
      "Epoch   4/ 20, train loss:  1.11, train acc:  0.61, val loss:  1.13, val acc:  0.60\n",
      "Epoch   5/ 20, train loss:  1.04, train acc:  0.63, val loss:  1.13, val acc:  0.61\n",
      "Epoch   6/ 20, train loss:  0.98, train acc:  0.65, val loss:  1.16, val acc:  0.61\n",
      "Epoch   7/ 20, train loss:  0.93, train acc:  0.67, val loss:  1.09, val acc:  0.63\n",
      "Epoch   8/ 20, train loss:  0.89, train acc:  0.69, val loss:  1.09, val acc:  0.63\n",
      "Epoch   9/ 20, train loss:  0.86, train acc:  0.70, val loss:  1.09, val acc:  0.63\n",
      "Epoch  10/ 20, train loss:  0.82, train acc:  0.71, val loss:  1.14, val acc:  0.63\n",
      "Epoch  11/ 20, train loss:  0.80, train acc:  0.72, val loss:  1.13, val acc:  0.64\n",
      "Epoch  12/ 20, train loss:  0.77, train acc:  0.72, val loss:  1.17, val acc:  0.64\n",
      "Epoch  13/ 20, train loss:  0.76, train acc:  0.73, val loss:  1.21, val acc:  0.62\n",
      "Epoch  14/ 20, train loss:  0.73, train acc:  0.74, val loss:  1.33, val acc:  0.59\n",
      "Epoch  15/ 20, train loss:  0.72, train acc:  0.75, val loss:  1.21, val acc:  0.63\n",
      "Epoch  16/ 20, train loss:  0.70, train acc:  0.75, val loss:  1.24, val acc:  0.62\n",
      "Epoch  17/ 20, train loss:  0.69, train acc:  0.75, val loss:  1.28, val acc:  0.62\n",
      "Epoch  18/ 20, train loss:  0.68, train acc:  0.76, val loss:  1.34, val acc:  0.62\n",
      "Epoch  19/ 20, train loss:  0.68, train acc:  0.76, val loss:  1.31, val acc:  0.62\n",
      "Epoch  20/ 20, train loss:  0.66, train acc:  0.77, val loss:  1.39, val acc:  0.61\n",
      "\n",
      "Time total:     1554.00 sec\n",
      "Time per epoch: 77.70 sec\n"
     ]
    }
   ],
   "source": [
    "history = train(model,optimizer,criterion, train_loader, test_loader, n_epochs, 'cuda')"
   ]
  },
  {
   "cell_type": "code",
   "execution_count": 26,
   "metadata": {},
   "outputs": [],
   "source": [
    "torch.save(model.state_dict(), 'results/model.pth')\n",
    "torch.save(optimizer.state_dict(), 'results/optimizer.pth')"
   ]
  },
  {
   "cell_type": "code",
   "execution_count": 27,
   "metadata": {},
   "outputs": [
    {
     "data": {
      "text/plain": [
       "Net(\n",
       "  (conv1): Conv2d(3, 6, kernel_size=(5, 5), stride=(1, 1))\n",
       "  (pool): MaxPool2d(kernel_size=2, stride=2, padding=0, dilation=1, ceil_mode=False)\n",
       "  (conv2): Conv2d(6, 16, kernel_size=(5, 5), stride=(1, 1))\n",
       "  (fc1): Linear(in_features=400, out_features=120, bias=True)\n",
       "  (fc2): Linear(in_features=120, out_features=84, bias=True)\n",
       "  (fc3): Linear(in_features=84, out_features=10, bias=True)\n",
       ")"
      ]
     },
     "execution_count": 27,
     "metadata": {},
     "output_type": "execute_result"
    }
   ],
   "source": [
    "model.load_state_dict(torch.load('results/model.pth'))\n",
    "model.eval()"
   ]
  },
  {
   "cell_type": "code",
   "execution_count": 41,
   "metadata": {},
   "outputs": [],
   "source": [
    "import matplotlib.pyplot as plt"
   ]
  },
  {
   "cell_type": "code",
   "execution_count": 42,
   "metadata": {},
   "outputs": [
    {
     "data": {
      "text/plain": [
       "(0.0, 3.0)"
      ]
     },
     "execution_count": 42,
     "metadata": {},
     "output_type": "execute_result"
    },
    {
     "data": {
      "image/png": "[encoded data removed]",
      "text/plain": [
       "<Figure size 640x480 with 1 Axes>"
      ]
     },
     "metadata": {},
     "output_type": "display_data"
    }
   ],
   "source": [
    "fig = plt.figure()\n",
    "plt.plot(range(len(history['loss'])), history['loss'], 'bo', label='Training loss')\n",
    "plt.plot(range(len(history['val_loss'])), history['val_loss'], c=\"red\",label='Val loss')\n",
    "plt.title('Training and test loss')\n",
    "plt.legend()\n",
    "plt.ylim([0, 3])"
   ]
  },
  {
   "cell_type": "code",
   "execution_count": 43,
   "metadata": {},
   "outputs": [
    {
     "data": {
      "text/plain": [
       "(0.0, 1.0)"
      ]
     },
     "execution_count": 43,
     "metadata": {},
     "output_type": "execute_result"
    },
    {
     "data": {
      "image/png": "[encoded data removed]",
      "text/plain": [
       "<Figure size 640x480 with 1 Axes>"
      ]
     },
     "metadata": {},
     "output_type": "display_data"
    }
   ],
   "source": [
    "fig = plt.figure()\n",
    "plt.plot(range(len(history['acc'])), history['acc'], 'bo', label='Training acc')\n",
    "plt.plot(range(len(history['val_acc'])), history['val_acc'], c=\"red\",label='Val acc')\n",
    "plt.title('Training and test acc')\n",
    "plt.legend()\n",
    "plt.ylim([0, 1])"
   ]
  }
 ],
 "metadata": {
  "kernelspec": {
   "display_name": "Python 3.10.4 ('Pytorch')",
   "language": "python",
   "name": "python3"
  },
  "language_info": {
   "codemirror_mode": {
    "name": "ipython",
    "version": 3
   },
   "file_extension": ".py",
   "mimetype": "text/x-python",
   "name": "python",
   "nbconvert_exporter": "python",
   "pygments_lexer": "ipython3",
   "version": "3.10.4"
  },
  "orig_nbformat": 4,
  "vscode": {
   "interpreter": {
    "hash": "fda304a6f307d97b29aaae674164dfd82bf6d6216593c67b562cfafd3100d5c6"
   }
  }
 },
 "nbformat": 4,
 "nbformat_minor": 2
}
