{
 "cells": [
  {
   "cell_type": "markdown",
   "metadata": {},
   "source": [
    "# Pytorch\n",
    "Ejemplo de clasificador con Pytorch, comentado en español. \n",
    "\n",
    "El cuaderno de Jupyter se ha desarrollado con Visual Code y puedes encontrar el código en https://github.com/josegemez/pytorch_mnist \n",
    "\n",
    "Se ha desarrollado en python 3.10.4 "
   ]
  },
  {
   "cell_type": "markdown",
   "metadata": {},
   "source": [
    "## Import\n",
    "Con las primeras lineas vamos a importar los paquetes que básicos de Pytorch. "
   ]
  },
  {
   "cell_type": "code",
   "execution_count": 1,
   "metadata": {},
   "outputs": [],
   "source": [
    "import torch\n",
    "import torchvision"
   ]
  },
  {
   "cell_type": "markdown",
   "metadata": {},
   "source": [
    "## Variables Generales"
   ]
  },
  {
   "cell_type": "code",
   "execution_count": 2,
   "metadata": {},
   "outputs": [],
   "source": [
    "batch_size_train = 512"
   ]
  },
  {
   "cell_type": "markdown",
   "metadata": {},
   "source": [
    "## Transformaciones "
   ]
  },
  {
   "cell_type": "code",
   "execution_count": 3,
   "metadata": {},
   "outputs": [],
   "source": [
    "transforms=torchvision.transforms.Compose([\n",
    "                            torchvision.transforms.ToTensor(),\n",
    "                            torchvision.transforms.Normalize((0.1307,), (0.3081,))\n",
    "                            ])"
   ]
  },
  {
   "cell_type": "markdown",
   "metadata": {},
   "source": [
    "## Dataset Entrenamiento"
   ]
  },
  {
   "cell_type": "code",
   "execution_count": 4,
   "metadata": {},
   "outputs": [],
   "source": [
    "dataset_mnist = torchvision.datasets.MNIST('/files/', train=True, download=True, transform=transforms)                    "
   ]
  },
  {
   "cell_type": "markdown",
   "metadata": {},
   "source": [
    "## Dataloader"
   ]
  },
  {
   "cell_type": "code",
   "execution_count": 5,
   "metadata": {},
   "outputs": [],
   "source": [
    "train_loader = torch.utils.data.DataLoader(dataset_mnist,  batch_size=batch_size_train, shuffle=True,num_workers=1,pin_memory=True)"
   ]
  },
  {
   "cell_type": "markdown",
   "metadata": {},
   "source": [
    "Vamos a ver que \"pinta\" tiene cada elemento del cargador"
   ]
  },
  {
   "cell_type": "code",
   "execution_count": 6,
   "metadata": {},
   "outputs": [],
   "source": [
    "x, y = next(iter(train_loader)) #asignamos el primer batch a las variables x e y. La variable X contrendra las imagenes e y contrendra las etiquetas"
   ]
  },
  {
   "cell_type": "markdown",
   "metadata": {},
   "source": [
    "x es un batch, por lo que la primera dimensión coincidira con el batch size "
   ]
  },
  {
   "cell_type": "code",
   "execution_count": 7,
   "metadata": {},
   "outputs": [],
   "source": [
    "from matplotlib.pyplot import imshow"
   ]
  },
  {
   "cell_type": "code",
   "execution_count": 8,
   "metadata": {},
   "outputs": [
    {
     "data": {
      "image/png": "[encoded data removed]",
      "text/plain": [
       "<Figure size 640x480 with 1 Axes>"
      ]
     },
     "metadata": {},
     "output_type": "display_data"
    }
   ],
   "source": [
    "imshow(x[0].view(28,28).numpy()); # transformamos el primer elemento del batch una matriz de numpy y mostramos con matplotlib"
   ]
  },
  {
   "cell_type": "code",
   "execution_count": 9,
   "metadata": {},
   "outputs": [
    {
     "data": {
      "text/plain": [
       "tensor([9, 5, 3, 1, 4, 1, 0, 3, 9, 7, 7, 1, 6, 0, 7, 1, 4, 5, 8, 6, 1, 4, 1, 6,\n",
       "        1, 6, 1, 4, 5, 7, 2, 4, 7, 9, 5, 0, 4, 3, 8, 6, 3, 1, 3, 5, 5, 2, 8, 6,\n",
       "        0, 1, 0, 4, 6, 0, 0, 6, 7, 2, 2, 7, 4, 0, 6, 7, 9, 6, 8, 5, 2, 9, 6, 6,\n",
       "        1, 2, 7, 3, 5, 4, 0, 8, 7, 0, 3, 9, 1, 4, 7, 9, 6, 3, 9, 8, 3, 6, 0, 5,\n",
       "        2, 2, 7, 7, 9, 2, 6, 4, 1, 9, 9, 2, 4, 5, 2, 1, 1, 2, 9, 9, 1, 9, 4, 4,\n",
       "        1, 6, 4, 0, 4, 2, 1, 0, 2, 2, 3, 0, 7, 4, 1, 9, 5, 4, 6, 5, 9, 2, 8, 9,\n",
       "        2, 9, 1, 9, 3, 1, 4, 3, 3, 9, 5, 1, 9, 2, 0, 4, 7, 3, 6, 9, 0, 1, 0, 0,\n",
       "        2, 4, 3, 3, 7, 7, 7, 2, 5, 3, 6, 9, 3, 4, 4, 4, 4, 5, 0, 4, 2, 7, 5, 7,\n",
       "        5, 3, 9, 9, 9, 5, 6, 4, 9, 4, 4, 3, 4, 4, 2, 7, 5, 9, 3, 1, 2, 7, 9, 0,\n",
       "        5, 2, 4, 3, 6, 4, 0, 3, 1, 6, 0, 4, 8, 0, 1, 6, 0, 4, 8, 7, 0, 3, 8, 0,\n",
       "        5, 3, 6, 9, 5, 3, 6, 6, 5, 0, 6, 9, 6, 9, 2, 4, 7, 2, 7, 7, 5, 0, 8, 6,\n",
       "        1, 0, 6, 4, 9, 2, 5, 8, 4, 3, 5, 7, 1, 2, 8, 3, 8, 4, 6, 3, 5, 3, 7, 3,\n",
       "        1, 1, 6, 1, 3, 8, 7, 4, 4, 4, 2, 2, 1, 2, 0, 2, 8, 2, 6, 7, 0, 1, 7, 9,\n",
       "        8, 7, 0, 4, 5, 8, 5, 9, 8, 2, 5, 8, 1, 7, 8, 5, 1, 3, 2, 0, 7, 4, 2, 6,\n",
       "        6, 5, 2, 4, 2, 2, 8, 7, 6, 5, 4, 9, 7, 1, 5, 2, 7, 9, 3, 8, 4, 6, 2, 6,\n",
       "        9, 9, 9, 7, 2, 8, 4, 8, 4, 7, 7, 4, 9, 2, 5, 7, 7, 4, 0, 1, 9, 0, 5, 8,\n",
       "        9, 9, 6, 8, 6, 4, 6, 7, 6, 6, 3, 9, 5, 5, 0, 5, 3, 9, 3, 1, 3, 1, 2, 4,\n",
       "        5, 7, 8, 8, 2, 0, 4, 9, 8, 4, 0, 6, 1, 2, 9, 7, 8, 3, 5, 3, 8, 3, 7, 5,\n",
       "        9, 4, 0, 6, 3, 3, 0, 7, 3, 8, 1, 8, 4, 8, 1, 0, 6, 6, 0, 5, 2, 6, 9, 5,\n",
       "        0, 3, 8, 5, 7, 5, 0, 9, 3, 8, 4, 7, 4, 7, 3, 2, 3, 3, 4, 5, 0, 6, 7, 6,\n",
       "        4, 5, 2, 4, 7, 1, 9, 1, 2, 9, 1, 5, 1, 1, 6, 4, 1, 1, 3, 3, 2, 4, 3, 7,\n",
       "        1, 0, 8, 6, 4, 1, 9, 3])"
      ]
     },
     "execution_count": 9,
     "metadata": {},
     "output_type": "execute_result"
    }
   ],
   "source": [
    "y"
   ]
  },
  {
   "cell_type": "markdown",
   "metadata": {},
   "source": [
    "## Dataset Test"
   ]
  },
  {
   "cell_type": "code",
   "execution_count": 10,
   "metadata": {},
   "outputs": [],
   "source": [
    "dataset_mnist_test = torchvision.datasets.MNIST('/files/', train=False, download=True, transform=transforms)  # Train ahora se pone en False    \n",
    "test_loader = torch.utils.data.DataLoader(dataset_mnist_test,  batch_size=batch_size_train, shuffle=True, num_workers=1,pin_memory=True)              "
   ]
  },
  {
   "cell_type": "markdown",
   "metadata": {},
   "source": [
    "Ya tenemos los datos preparados, ahora vamos a crear la red"
   ]
  },
  {
   "cell_type": "code",
   "execution_count": 23,
   "metadata": {},
   "outputs": [],
   "source": [
    "learning_rate   =   0.01\n",
    "momentum   =   0.5\n",
    "n_epochs = 10\n"
   ]
  },
  {
   "cell_type": "code",
   "execution_count": 12,
   "metadata": {},
   "outputs": [],
   "source": [
    "import torch.nn as nn\n",
    "import torch.nn.functional as F\n",
    "import torch.optim as optim\n",
    "from tqdm import tqdm\n",
    "import numpy as np"
   ]
  },
  {
   "cell_type": "markdown",
   "metadata": {},
   "source": [
    "## MLP"
   ]
  },
  {
   "cell_type": "code",
   "execution_count": 24,
   "metadata": {},
   "outputs": [],
   "source": [
    "class Net(nn.Module):\n",
    "    def __init__(self):\n",
    "        super(Net, self).__init__()\n",
    "        self.fc1 = nn.Linear(28*28,100) #capa \"fuly connect\" entrada 28*28 (tamaño de la imagen) 50 neuronas\n",
    "        self.fc1_drop = nn.Dropout(0.2) #dropout (regularizacion) 20% \n",
    "        self.fc2 = nn.Linear(100, 100) #capa fully connect 50 neuronas \n",
    "        self.fc2_drop = nn.Dropout(0.2) #dropout (regularizacion) 20%\n",
    "        self.fc3 = nn.Linear(100, 10) #capa de salida numero de salida igual al de etiquetas\n",
    "\n",
    "    def forward(self, x):\n",
    "        x = x.view(-1, 28*28) #cambia la forma del tensor, -1 para quitar la dimensiones anteriores y dejarlo todo en una vector de 256 elementos\n",
    "        x = F.relu(self.fc1(x)) #capa fully connect y luego activacion relu\n",
    "        x = self.fc1_drop(x) #dropout (regularizacion)\n",
    "        x = F.relu(self.fc2(x)) #capa fully connect y luego activacion relu\n",
    "        x = self.fc2_drop(x) #dropout (regularizacion)\n",
    "        return F.log_softmax(self.fc3(x), dim=1) #soft max (estimacion estadistica 0-1 de la probabildad de que sea de un etiqueta u otra)"
   ]
  },
  {
   "cell_type": "markdown",
   "metadata": {},
   "source": [
    "## Convolutional"
   ]
  },
  {
   "cell_type": "markdown",
   "metadata": {},
   "source": [
    "class Net(nn.Module):\n",
    "    def __init__(self):\n",
    "        super(Net, self).__init__()\n",
    "        self.conv1 = nn.Conv2d(1, 10, kernel_size=5)\n",
    "        self.conv2 = nn.Conv2d(10, 20, kernel_size=5)\n",
    "        self.conv2_drop = nn.Dropout2d()\n",
    "        self.fc1 = nn.Linear(320, 50)\n",
    "        self.fc2 = nn.Linear(50, 10)\n",
    "\n",
    "    def forward(self, x):\n",
    "        x = F.relu(F.max_pool2d(self.conv1(x), 2)) \n",
    "        x = F.relu(F.max_pool2d(self.conv2_drop(self.conv2(x)), 2))\n",
    "        x = x.view(-1, 320)\n",
    "        x = F.relu(self.fc1(x))\n",
    "        x = F.dropout(x, training=self.training)\n",
    "        x = self.fc2(x)\n",
    "        return F.log_softmax(x, dim=1)"
   ]
  },
  {
   "cell_type": "code",
   "execution_count": 25,
   "metadata": {},
   "outputs": [
    {
     "data": {
      "text/plain": [
       "device(type='cuda')"
      ]
     },
     "execution_count": 25,
     "metadata": {},
     "output_type": "execute_result"
    }
   ],
   "source": [
    "#device = torch.device('cuda' if torch.cuda.is_available() else 'cpu')\n",
    "device = torch.device('cuda')\n",
    "device"
   ]
  },
  {
   "cell_type": "code",
   "execution_count": 26,
   "metadata": {},
   "outputs": [],
   "source": [
    "model = Net().to(device)\n",
    "optimizer = optim.SGD(model.parameters(), lr=learning_rate,\n",
    "                      momentum=momentum)\n",
    "\n",
    "scheduler = optim.lr_scheduler.StepLR(optimizer, step_size=2, gamma=0.5)\n",
    "criterion =  nn.CrossEntropyLoss().to(device)\n"
   ]
  },
  {
   "cell_type": "code",
   "execution_count": 27,
   "metadata": {},
   "outputs": [
    {
     "data": {
      "text/plain": [
       "Net(\n",
       "  (fc1): Linear(in_features=784, out_features=100, bias=True)\n",
       "  (fc1_drop): Dropout(p=0.2, inplace=False)\n",
       "  (fc2): Linear(in_features=100, out_features=100, bias=True)\n",
       "  (fc2_drop): Dropout(p=0.2, inplace=False)\n",
       "  (fc3): Linear(in_features=100, out_features=10, bias=True)\n",
       ")"
      ]
     },
     "execution_count": 27,
     "metadata": {},
     "output_type": "execute_result"
    }
   ],
   "source": [
    "model"
   ]
  },
  {
   "cell_type": "code",
   "execution_count": 28,
   "metadata": {},
   "outputs": [],
   "source": [
    "train_loss = []\n",
    "test_loss = []\n",
    "train_acc = []\n",
    "test_acc = []"
   ]
  },
  {
   "cell_type": "code",
   "execution_count": 29,
   "metadata": {},
   "outputs": [
    {
     "name": "stderr",
     "output_type": "stream",
     "text": [
      "Epoch 0: 100%|██████████| 118/118 [00:16<00:00,  7.16batch/s]\n",
      "100%|██████████| 20/20 [00:04<00:00,  4.35batch/s]\n"
     ]
    },
    {
     "name": "stdout",
     "output_type": "stream",
     "text": [
      "Epoch 0: Train loss 1.8350068815683915 Test loss 1.0082792699337007 Train accuracy 0.4551112288135593 Test accuracy 0.76943359375\n"
     ]
    },
    {
     "name": "stderr",
     "output_type": "stream",
     "text": [
      "Epoch 1: 100%|██████████| 118/118 [00:16<00:00,  7.07batch/s]\n",
      "100%|██████████| 20/20 [00:04<00:00,  4.33batch/s]\n"
     ]
    },
    {
     "name": "stdout",
     "output_type": "stream",
     "text": [
      "Epoch 1: Train loss 0.83547602745436 Test loss 0.5272199898958206 Train accuracy 0.7526152012711864 Test accuracy 0.839453125\n"
     ]
    },
    {
     "name": "stderr",
     "output_type": "stream",
     "text": [
      "Epoch 2: 100%|██████████| 118/118 [00:16<00:00,  7.04batch/s]\n",
      "100%|██████████| 20/20 [00:04<00:00,  4.33batch/s]\n"
     ]
    },
    {
     "name": "stdout",
     "output_type": "stream",
     "text": [
      "Epoch 2: Train loss 0.6285597409232188 Test loss 0.4549728468060493 Train accuracy 0.8062764830508474 Test accuracy 0.8564453125\n"
     ]
    },
    {
     "name": "stderr",
     "output_type": "stream",
     "text": [
      "Epoch 3: 100%|██████████| 118/118 [00:16<00:00,  7.01batch/s]\n",
      "100%|██████████| 20/20 [00:04<00:00,  4.34batch/s]\n"
     ]
    },
    {
     "name": "stdout",
     "output_type": "stream",
     "text": [
      "Epoch 3: Train loss 0.5594240207288225 Test loss 0.412774883210659 Train accuracy 0.8275953389830508 Test accuracy 0.86689453125\n"
     ]
    },
    {
     "name": "stderr",
     "output_type": "stream",
     "text": [
      "Epoch 4: 100%|██████████| 118/118 [00:18<00:00,  6.50batch/s]\n",
      "100%|██████████| 20/20 [00:04<00:00,  4.10batch/s]\n"
     ]
    },
    {
     "name": "stdout",
     "output_type": "stream",
     "text": [
      "Epoch 4: Train loss 0.527148061384589 Test loss 0.3974235773086548 Train accuracy 0.8353416313559322 Test accuracy 0.8693359375\n"
     ]
    },
    {
     "name": "stderr",
     "output_type": "stream",
     "text": [
      "Epoch 5: 100%|██████████| 118/118 [00:17<00:00,  6.87batch/s]\n",
      "100%|██████████| 20/20 [00:04<00:00,  4.16batch/s]\n"
     ]
    },
    {
     "name": "stdout",
     "output_type": "stream",
     "text": [
      "Epoch 5: Train loss 0.5085572431148109 Test loss 0.38285111337900163 Train accuracy 0.8423265360169492 Test accuracy 0.87294921875\n"
     ]
    },
    {
     "name": "stderr",
     "output_type": "stream",
     "text": [
      "Epoch 6: 100%|██████████| 118/118 [00:18<00:00,  6.50batch/s]\n",
      "100%|██████████| 20/20 [00:05<00:00,  3.95batch/s]\n"
     ]
    },
    {
     "name": "stdout",
     "output_type": "stream",
     "text": [
      "Epoch 6: Train loss 0.4951573446140451 Test loss 0.3773025095462799 Train accuracy 0.846828654661017 Test accuracy 0.87431640625\n"
     ]
    },
    {
     "name": "stderr",
     "output_type": "stream",
     "text": [
      "Epoch 7: 100%|██████████| 118/118 [00:16<00:00,  7.04batch/s]\n",
      "100%|██████████| 20/20 [00:04<00:00,  4.21batch/s]\n"
     ]
    },
    {
     "name": "stdout",
     "output_type": "stream",
     "text": [
      "Epoch 7: Train loss 0.4862472960504435 Test loss 0.3702213287353516 Train accuracy 0.8483348781779662 Test accuracy 0.87685546875\n"
     ]
    },
    {
     "name": "stderr",
     "output_type": "stream",
     "text": [
      "Epoch 8: 100%|██████████| 118/118 [00:16<00:00,  7.15batch/s]\n",
      "100%|██████████| 20/20 [00:04<00:00,  4.48batch/s]\n"
     ]
    },
    {
     "name": "stdout",
     "output_type": "stream",
     "text": [
      "Epoch 8: Train loss 0.4831066608934079 Test loss 0.36695575416088105 Train accuracy 0.8500397245762712 Test accuracy 0.87705078125\n"
     ]
    },
    {
     "name": "stderr",
     "output_type": "stream",
     "text": [
      "Epoch 9: 100%|██████████| 118/118 [00:16<00:00,  7.20batch/s]\n",
      "100%|██████████| 20/20 [00:04<00:00,  4.31batch/s]"
     ]
    },
    {
     "name": "stdout",
     "output_type": "stream",
     "text": [
      "Epoch 9: Train loss 0.47919703540155445 Test loss 0.3641562148928642 Train accuracy 0.8528038930084746 Test accuracy 0.8775390625\n"
     ]
    },
    {
     "name": "stderr",
     "output_type": "stream",
     "text": [
      "\n"
     ]
    }
   ],
   "source": [
    "for epoch in range(n_epochs):\n",
    "  epoch_train_loss = []\n",
    "  epoch_train_acc = []\n",
    "  epoch_test_loss = []\n",
    "  epoch_test_acc = []\n",
    "  model.train() #modelo en modo entranamiento\n",
    "   #perdida de la primera epoca\n",
    "  with tqdm(train_loader, unit='batch') as tepoch: #tqdm para ver la barra de progreso por batch\n",
    "    for data, target in tepoch: #en cada batch data la imagen de 28x28 y target la prediccion\n",
    "      model.train()\n",
    "      tepoch.set_description(f'Epoch {epoch}') #texto al final de la barra de progreso\n",
    "      data, target = data.to(device=device, non_blocking=True), target.to(device=device, non_blocking=True).long() #se pasan lo datos y las etiquetas al \"device\"\n",
    "      optimizer.zero_grad() #se inicializan los gradientes\n",
    "      output = model(data) #se realiza la predicción propagación haciea adelante\n",
    "      loss = F.nll_loss(output, target) #se calcula la funcion de perdida entre los valores predichos (output) y los valores reales (target)\n",
    "      pred = output.data.max(1, keepdim=True)[1] #valores predichos\n",
    "      correct = pred.eq(target.data.view_as(pred)).sum()\n",
    "      accuracy = correct.item()/batch_size_train\n",
    "      epoch_train_acc.append(accuracy)\n",
    "      epoch_train_loss.append(loss.cpu().item()) #se guardan el valor de la perdida\n",
    "      loss.backward() #se realiza la retropropagación \n",
    "      optimizer.step() #se realiza un paso adelante con el learning rate y el gradiente calculado\n",
    "\n",
    "  model.eval()\n",
    "  with tqdm(test_loader, unit='batch') as tepoch:\n",
    "    with torch.no_grad():\n",
    "      for data, target in tepoch:\n",
    "        data, target = data.to(device=device, non_blocking=True), target.to(device=device, non_blocking=True).long() #se pasan lo datos y las etiquetas al \"device\"\n",
    "        output = model(data) #se realiza la predicción propagación haciea adelante\n",
    "        t_loss = F.nll_loss(output, target) #se calcula la funcion de perdida entre los valores predichos (output) y los valores reales (target)    \n",
    "        pred = output.data.max(1, keepdim=True)[1] #valores predichos\n",
    "        correct = pred.eq(target.data.view_as(pred)).sum()    \n",
    "        test_accuracy = correct.item()/batch_size_train\n",
    "        epoch_test_acc.append(test_accuracy)\n",
    "        epoch_test_loss.append(t_loss.cpu().item()) #se guardan el valor de la perdida\n",
    "  scheduler.step() #se realiza un paso para cambiar el learning rate\n",
    "  print(f'Epoch {epoch}: Train loss {np.mean(epoch_train_loss)} Test loss {np.mean(epoch_test_loss)} Train accuracy {np.mean(epoch_train_acc)} Test accuracy {np.mean(epoch_test_acc)}')\n",
    "  train_loss.append(np.mean(epoch_train_loss))\n",
    "  test_loss.append(np.mean(epoch_test_loss))\n",
    "  train_acc.append(np.mean(epoch_train_acc))\n",
    "  test_acc.append(np.mean(epoch_test_acc))"
   ]
  },
  {
   "cell_type": "code",
   "execution_count": 22,
   "metadata": {},
   "outputs": [],
   "source": [
    "import matplotlib.pyplot as plt"
   ]
  },
  {
   "cell_type": "code",
   "execution_count": 20,
   "metadata": {},
   "outputs": [],
   "source": [
    "def plot_losses(train_loss, test_loss, save_to_file=None):\n",
    "    fig = plt.figure()\n",
    "    epochs = len(train_loss)\n",
    "    plt.plot(range(epochs), train_loss, 'bo', label='Training loss')\n",
    "    plt.plot(range(epochs), test_loss,  label='Test loss', c=\"red\")\n",
    "    plt.title('Training and test loss')\n",
    "    plt.legend()\n",
    "    plt.ylim([0, 3])\n",
    "    if save_to_file:\n",
    "        fig.savefig()\n",
    "\n",
    "\n",
    "def plot_accuracies(train_acc, test_acc, save_to_file=None):\n",
    "    fig = plt.figure()\n",
    "    epochs = len(train_acc)\n",
    "    plt.plot(range(epochs), train_acc, 'bo', label='Training accuracy')\n",
    "    plt.plot(range(epochs), test_acc,  label='Test accuracy', c=\"red\")\n",
    "    plt.title('Training and test accuracy')\n",
    "    plt.legend()\n",
    "    plt.ylim([0, 1])\n",
    "    if save_to_file:\n",
    "        fig.savefig(save_to_file)"
   ]
  },
  {
   "cell_type": "code",
   "execution_count": 30,
   "metadata": {},
   "outputs": [
    {
     "data": {
      "image/png": "[encoded data removed]",
      "text/plain": [
       "<Figure size 640x480 with 1 Axes>"
      ]
     },
     "metadata": {},
     "output_type": "display_data"
    },
    {
     "data": {
      "image/png": "[encoded data removed]",
      "text/plain": [
       "<Figure size 640x480 with 1 Axes>"
      ]
     },
     "metadata": {},
     "output_type": "display_data"
    }
   ],
   "source": [
    "plot_losses(train_loss, test_loss, save_to_file=None)\n",
    "plot_accuracies(train_acc, test_acc, save_to_file=None)"
   ]
  }
 ],
 "metadata": {
  "kernelspec": {
   "display_name": "Python 3.10.4 ('Pytorch')",
   "language": "python",
   "name": "python3"
  },
  "language_info": {
   "codemirror_mode": {
    "name": "ipython",
    "version": 3
   },
   "file_extension": ".py",
   "mimetype": "text/x-python",
   "name": "python",
   "nbconvert_exporter": "python",
   "pygments_lexer": "ipython3",
   "version": "3.10.4"
  },
  "orig_nbformat": 4,
  "vscode": {
   "interpreter": {
    "hash": "fda304a6f307d97b29aaae674164dfd82bf6d6216593c67b562cfafd3100d5c6"
   }
  }
 },
 "nbformat": 4,
 "nbformat_minor": 2
}
