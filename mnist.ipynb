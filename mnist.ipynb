{
 "cells": [
  {
   "cell_type": "markdown",
   "metadata": {},
   "source": [
    "# Pytorch\n",
    "Ejemplo de clasificador con Pytorch, comentado en español. \n",
    "\n",
    "El cuaderno de Jupyter se ha desarrollado con Visual Code y puedes encontrar el código en https://github.com/josegemez/pytorch_mnist \n",
    "\n",
    "Se ha desarrollado en python 3.10.4 "
   ]
  },
  {
   "cell_type": "markdown",
   "metadata": {},
   "source": [
    "## Import\n",
    "Con las primeras lineas vamos a importar los paquetes que básicos de Pytorch. "
   ]
  },
  {
   "cell_type": "code",
   "execution_count": 95,
   "metadata": {},
   "outputs": [],
   "source": [
    "import torch\n",
    "import torchvision"
   ]
  },
  {
   "cell_type": "markdown",
   "metadata": {},
   "source": [
    "## Variables Generales"
   ]
  },
  {
   "cell_type": "code",
   "execution_count": 115,
   "metadata": {},
   "outputs": [],
   "source": [
    "batch_size_train = 128"
   ]
  },
  {
   "cell_type": "markdown",
   "metadata": {},
   "source": [
    "## Transformaciones "
   ]
  },
  {
   "cell_type": "code",
   "execution_count": 116,
   "metadata": {},
   "outputs": [],
   "source": [
    "transforms=torchvision.transforms.Compose([\n",
    "                            torchvision.transforms.ToTensor(),\n",
    "                            torchvision.transforms.Normalize((0.1307,), (0.3081,))\n",
    "                            ])"
   ]
  },
  {
   "cell_type": "markdown",
   "metadata": {},
   "source": [
    "## Dataset Entrenamiento"
   ]
  },
  {
   "cell_type": "code",
   "execution_count": 117,
   "metadata": {},
   "outputs": [],
   "source": [
    "dataset_mnist = torchvision.datasets.MNIST('/files/', train=True, download=True, transform=transforms)                    "
   ]
  },
  {
   "cell_type": "markdown",
   "metadata": {},
   "source": [
    "## Dataloader"
   ]
  },
  {
   "cell_type": "code",
   "execution_count": 118,
   "metadata": {},
   "outputs": [],
   "source": [
    "train_loader = torch.utils.data.DataLoader(dataset_mnist,  batch_size=batch_size_train, shuffle=True)"
   ]
  },
  {
   "cell_type": "markdown",
   "metadata": {},
   "source": [
    "Vamos a ver que \"pinta\" tiene cada elemento del cargador"
   ]
  },
  {
   "cell_type": "code",
   "execution_count": 119,
   "metadata": {},
   "outputs": [],
   "source": [
    "x, y = next(iter(train_loader)) #asignamos el primer batch a las variables x e y. La variable X contrendra las imagenes e y contrendra las etiquetas"
   ]
  },
  {
   "cell_type": "code",
   "execution_count": 120,
   "metadata": {},
   "outputs": [
    {
     "data": {
      "text/plain": [
       "torch.Size([128, 1, 28, 28])"
      ]
     },
     "execution_count": 120,
     "metadata": {},
     "output_type": "execute_result"
    }
   ],
   "source": [
    "x.shape"
   ]
  },
  {
   "cell_type": "markdown",
   "metadata": {},
   "source": [
    "x es un batch, por lo que la primera dimensión coincidira con el batch size "
   ]
  },
  {
   "cell_type": "code",
   "execution_count": 121,
   "metadata": {},
   "outputs": [],
   "source": [
    "from matplotlib.pyplot import imshow"
   ]
  },
  {
   "cell_type": "code",
   "execution_count": 122,
   "metadata": {},
   "outputs": [
    {
     "data": {
      "image/png": "[encoded data removed]",
      "text/plain": [
       "<Figure size 432x288 with 1 Axes>"
      ]
     },
     "metadata": {
      "needs_background": "light"
     },
     "output_type": "display_data"
    }
   ],
   "source": [
    "imshow(x[0].view(28,28).numpy()); # transformamos el primer elemento del batch una matriz de numpy y mostramos con matplotlib"
   ]
  },
  {
   "cell_type": "code",
   "execution_count": 123,
   "metadata": {},
   "outputs": [
    {
     "data": {
      "text/plain": [
       "tensor([5, 3, 5, 5, 3, 0, 7, 0, 5, 9, 0, 0, 7, 8, 0, 3, 9, 1, 9, 7, 1, 2, 3, 9,\n",
       "        1, 3, 5, 1, 4, 1, 5, 4, 5, 6, 2, 8, 0, 4, 5, 1, 5, 9, 7, 2, 7, 9, 5, 2,\n",
       "        2, 1, 8, 4, 3, 2, 7, 7, 0, 4, 6, 6, 5, 4, 3, 0, 9, 9, 4, 4, 8, 4, 3, 4,\n",
       "        1, 8, 4, 5, 6, 0, 4, 4, 5, 5, 3, 4, 9, 9, 8, 9, 1, 4, 6, 4, 2, 3, 4, 5,\n",
       "        6, 1, 7, 8, 0, 8, 2, 3, 6, 8, 3, 6, 9, 8, 4, 9, 2, 0, 6, 4, 4, 7, 9, 6,\n",
       "        2, 3, 7, 1, 9, 2, 4, 1])"
      ]
     },
     "execution_count": 123,
     "metadata": {},
     "output_type": "execute_result"
    }
   ],
   "source": [
    "y"
   ]
  },
  {
   "cell_type": "markdown",
   "metadata": {},
   "source": [
    "## Dataset Test"
   ]
  },
  {
   "cell_type": "code",
   "execution_count": 124,
   "metadata": {},
   "outputs": [],
   "source": [
    "dataset_mnist_test = torchvision.datasets.MNIST('/files/', train=False, download=True, transform=transforms)  # Train ahora se pone en False    \n",
    "test_loader = torch.utils.data.DataLoader(dataset_mnist,  batch_size=batch_size_train, shuffle=True)              "
   ]
  },
  {
   "cell_type": "markdown",
   "metadata": {},
   "source": [
    "Ya tenemos los datos preparados, ahora vamos a crear la red"
   ]
  },
  {
   "cell_type": "code",
   "execution_count": 125,
   "metadata": {},
   "outputs": [],
   "source": [
    "learning_rate   =   0.01\n",
    "momentum   =   0.5\n",
    "n_epochs = 5\n",
    "log_interval   =   10"
   ]
  },
  {
   "cell_type": "code",
   "execution_count": 126,
   "metadata": {},
   "outputs": [],
   "source": [
    "import torch.nn as nn\n",
    "import torch.nn.functional as F\n",
    "import torch.optim as optim"
   ]
  },
  {
   "cell_type": "code",
   "execution_count": 127,
   "metadata": {},
   "outputs": [],
   "source": [
    "class Net(nn.Module):\n",
    "    def __init__(self):\n",
    "        super(Net, self).__init__()\n",
    "        self.conv1 = nn.Conv2d(1, 10, kernel_size=5)\n",
    "        self.conv2 = nn.Conv2d(10, 20, kernel_size=5)\n",
    "        self.conv2_drop = nn.Dropout2d()\n",
    "        self.fc1 = nn.Linear(320, 50)\n",
    "        self.fc2 = nn.Linear(50, 10)\n",
    "\n",
    "    def forward(self, x):\n",
    "        x = F.relu(F.max_pool2d(self.conv1(x), 2)) \n",
    "        x = F.relu(F.max_pool2d(self.conv2_drop(self.conv2(x)), 2))\n",
    "        x = x.view(-1, 320)\n",
    "        x = F.relu(self.fc1(x))\n",
    "        x = F.dropout(x, training=self.training)\n",
    "        x = self.fc2(x)\n",
    "        return F.log_softmax(x)"
   ]
  },
  {
   "cell_type": "code",
   "execution_count": 128,
   "metadata": {},
   "outputs": [],
   "source": [
    "model = Net().to(device)\n",
    "optimizer = optim.SGD(model.parameters(), lr=learning_rate,\n",
    "                      momentum=momentum)"
   ]
  },
  {
   "cell_type": "code",
   "execution_count": 129,
   "metadata": {},
   "outputs": [
    {
     "data": {
      "text/plain": [
       "Net(\n",
       "  (conv1): Conv2d(1, 10, kernel_size=(5, 5), stride=(1, 1))\n",
       "  (conv2): Conv2d(10, 20, kernel_size=(5, 5), stride=(1, 1))\n",
       "  (conv2_drop): Dropout2d(p=0.5, inplace=False)\n",
       "  (fc1): Linear(in_features=320, out_features=50, bias=True)\n",
       "  (fc2): Linear(in_features=50, out_features=10, bias=True)\n",
       ")"
      ]
     },
     "execution_count": 129,
     "metadata": {},
     "output_type": "execute_result"
    }
   ],
   "source": [
    "model"
   ]
  },
  {
   "cell_type": "code",
   "execution_count": 130,
   "metadata": {},
   "outputs": [],
   "source": [
    "train_losses = []\n",
    "train_counter = []\n",
    "test_losses = []\n",
    "test_counter = [i*len(train_loader.dataset) for i in range(n_epochs + 1)]"
   ]
  },
  {
   "cell_type": "code",
   "execution_count": 131,
   "metadata": {},
   "outputs": [
    {
     "data": {
      "text/plain": [
       "device(type='cuda')"
      ]
     },
     "execution_count": 131,
     "metadata": {},
     "output_type": "execute_result"
    }
   ],
   "source": [
    "#device = torch.device('cuda' if torch.cuda.is_available() else 'cpu')\n",
    "device = torch.device('cuda')\n",
    "device"
   ]
  },
  {
   "cell_type": "code",
   "execution_count": 132,
   "metadata": {},
   "outputs": [],
   "source": [
    "def train(epoch):\n",
    "  model.train()\n",
    "  for batch_idx, (data, target) in enumerate(train_loader):\n",
    "    data, target = data.to(device=device), target.to(device=device)\n",
    "    optimizer.zero_grad()\n",
    "    output = model(data)\n",
    "    loss = F.nll_loss(output, target)\n",
    "    loss.backward()\n",
    "    optimizer.step()\n",
    "    if batch_idx % log_interval == 0:\n",
    "      print('Train Epoch: {} [{}/{} ({:.0f}%)]\\tLoss: {:.6f}'.format(\n",
    "        epoch, batch_idx * len(data), len(train_loader.dataset),\n",
    "        100. * batch_idx / len(train_loader), loss.item()))\n",
    "      train_losses.append(loss.item())\n",
    "      train_counter.append(\n",
    "        (batch_idx*64) + ((epoch-1)*len(train_loader.dataset)))\n",
    "      torch.save(model.state_dict(), 'results/model.pth')\n",
    "      torch.save(optimizer.state_dict(), 'results/optimizer.pth')"
   ]
  },
  {
   "cell_type": "code",
   "execution_count": 136,
   "metadata": {},
   "outputs": [],
   "source": [
    "def test():\n",
    "  model.eval()\n",
    "  test_loss = 0\n",
    "  correct = 0\n",
    "  with torch.no_grad():\n",
    "    for data, target in test_loader:\n",
    "      data, target = data.to(device=device), target.to(device=device)\n",
    "      output = model(data)\n",
    "      test_loss += F.nll_loss(output, target, size_average=False).item()\n",
    "      pred = output.data.max(1, keepdim=True)[1]\n",
    "      correct += pred.eq(target.data.view_as(pred)).sum()\n",
    "  test_loss /= len(test_loader.dataset)\n",
    "  test_losses.append(test_loss)\n",
    "  print('\\nTest set: Avg. loss: {:.4f}, Accuracy: {}/{} ({:.0f}%)\\n'.format(\n",
    "    test_loss, correct, len(test_loader.dataset),\n",
    "    100. * correct / len(test_loader.dataset)))"
   ]
  },
  {
   "cell_type": "code",
   "execution_count": 137,
   "metadata": {},
   "outputs": [
    {
     "name": "stderr",
     "output_type": "stream",
     "text": [
      "C:\\Users\\jose\\AppData\\Local\\Temp\\ipykernel_22864\\746712537.py:17: UserWarning: Implicit dimension choice for log_softmax has been deprecated. Change the call to include dim=X as an argument.\n",
      "  return F.log_softmax(x)\n"
     ]
    },
    {
     "name": "stdout",
     "output_type": "stream",
     "text": [
      "Train Epoch: 1 [0/60000 (0%)]\tLoss: 0.404212\n",
      "Train Epoch: 1 [1280/60000 (2%)]\tLoss: 0.291219\n",
      "Train Epoch: 1 [2560/60000 (4%)]\tLoss: 0.225978\n",
      "Train Epoch: 1 [3840/60000 (6%)]\tLoss: 0.360579\n",
      "Train Epoch: 1 [5120/60000 (9%)]\tLoss: 0.293713\n",
      "Train Epoch: 1 [6400/60000 (11%)]\tLoss: 0.460779\n",
      "Train Epoch: 1 [7680/60000 (13%)]\tLoss: 0.208715\n",
      "Train Epoch: 1 [8960/60000 (15%)]\tLoss: 0.253121\n",
      "Train Epoch: 1 [10240/60000 (17%)]\tLoss: 0.270561\n",
      "Train Epoch: 1 [11520/60000 (19%)]\tLoss: 0.338272\n",
      "Train Epoch: 1 [12800/60000 (21%)]\tLoss: 0.214927\n",
      "Train Epoch: 1 [14080/60000 (23%)]\tLoss: 0.171565\n",
      "Train Epoch: 1 [15360/60000 (26%)]\tLoss: 0.300624\n",
      "Train Epoch: 1 [16640/60000 (28%)]\tLoss: 0.357604\n",
      "Train Epoch: 1 [17920/60000 (30%)]\tLoss: 0.283089\n",
      "Train Epoch: 1 [19200/60000 (32%)]\tLoss: 0.198476\n",
      "Train Epoch: 1 [20480/60000 (34%)]\tLoss: 0.159070\n",
      "Train Epoch: 1 [21760/60000 (36%)]\tLoss: 0.293819\n",
      "Train Epoch: 1 [23040/60000 (38%)]\tLoss: 0.227059\n",
      "Train Epoch: 1 [24320/60000 (41%)]\tLoss: 0.235513\n",
      "Train Epoch: 1 [25600/60000 (43%)]\tLoss: 0.314179\n",
      "Train Epoch: 1 [26880/60000 (45%)]\tLoss: 0.309818\n",
      "Train Epoch: 1 [28160/60000 (47%)]\tLoss: 0.227373\n",
      "Train Epoch: 1 [29440/60000 (49%)]\tLoss: 0.230821\n",
      "Train Epoch: 1 [30720/60000 (51%)]\tLoss: 0.268564\n",
      "Train Epoch: 1 [32000/60000 (53%)]\tLoss: 0.192361\n",
      "Train Epoch: 1 [33280/60000 (55%)]\tLoss: 0.326095\n",
      "Train Epoch: 1 [34560/60000 (58%)]\tLoss: 0.242101\n",
      "Train Epoch: 1 [35840/60000 (60%)]\tLoss: 0.416962\n",
      "Train Epoch: 1 [37120/60000 (62%)]\tLoss: 0.238854\n",
      "Train Epoch: 1 [38400/60000 (64%)]\tLoss: 0.290950\n",
      "Train Epoch: 1 [39680/60000 (66%)]\tLoss: 0.309576\n",
      "Train Epoch: 1 [40960/60000 (68%)]\tLoss: 0.331459\n",
      "Train Epoch: 1 [42240/60000 (70%)]\tLoss: 0.194403\n",
      "Train Epoch: 1 [43520/60000 (72%)]\tLoss: 0.220432\n",
      "Train Epoch: 1 [44800/60000 (75%)]\tLoss: 0.208330\n",
      "Train Epoch: 1 [46080/60000 (77%)]\tLoss: 0.179419\n",
      "Train Epoch: 1 [47360/60000 (79%)]\tLoss: 0.382370\n",
      "Train Epoch: 1 [48640/60000 (81%)]\tLoss: 0.221244\n",
      "Train Epoch: 1 [49920/60000 (83%)]\tLoss: 0.218745\n",
      "Train Epoch: 1 [51200/60000 (85%)]\tLoss: 0.324350\n",
      "Train Epoch: 1 [52480/60000 (87%)]\tLoss: 0.387870\n",
      "Train Epoch: 1 [53760/60000 (90%)]\tLoss: 0.237975\n",
      "Train Epoch: 1 [55040/60000 (92%)]\tLoss: 0.266228\n",
      "Train Epoch: 1 [56320/60000 (94%)]\tLoss: 0.291363\n",
      "Train Epoch: 1 [57600/60000 (96%)]\tLoss: 0.232798\n",
      "Train Epoch: 1 [58880/60000 (98%)]\tLoss: 0.130743\n"
     ]
    },
    {
     "name": "stderr",
     "output_type": "stream",
     "text": [
      "c:\\Users\\jose\\anaconda3\\envs\\pytorch\\lib\\site-packages\\torch\\nn\\_reduction.py:42: UserWarning: size_average and reduce args will be deprecated, please use reduction='sum' instead.\n",
      "  warnings.warn(warning.format(ret))\n"
     ]
    },
    {
     "name": "stdout",
     "output_type": "stream",
     "text": [
      "\n",
      "Test set: Avg. loss: 0.1015, Accuracy: 58140/60000 (97%)\n",
      "\n",
      "Train Epoch: 2 [0/60000 (0%)]\tLoss: 0.290193\n",
      "Train Epoch: 2 [1280/60000 (2%)]\tLoss: 0.296355\n",
      "Train Epoch: 2 [2560/60000 (4%)]\tLoss: 0.289227\n",
      "Train Epoch: 2 [3840/60000 (6%)]\tLoss: 0.232863\n",
      "Train Epoch: 2 [5120/60000 (9%)]\tLoss: 0.255078\n",
      "Train Epoch: 2 [6400/60000 (11%)]\tLoss: 0.270220\n",
      "Train Epoch: 2 [7680/60000 (13%)]\tLoss: 0.284517\n",
      "Train Epoch: 2 [8960/60000 (15%)]\tLoss: 0.293392\n",
      "Train Epoch: 2 [10240/60000 (17%)]\tLoss: 0.232994\n",
      "Train Epoch: 2 [11520/60000 (19%)]\tLoss: 0.279123\n",
      "Train Epoch: 2 [12800/60000 (21%)]\tLoss: 0.225431\n",
      "Train Epoch: 2 [14080/60000 (23%)]\tLoss: 0.239266\n",
      "Train Epoch: 2 [15360/60000 (26%)]\tLoss: 0.296275\n",
      "Train Epoch: 2 [16640/60000 (28%)]\tLoss: 0.272007\n",
      "Train Epoch: 2 [17920/60000 (30%)]\tLoss: 0.167046\n",
      "Train Epoch: 2 [19200/60000 (32%)]\tLoss: 0.329694\n",
      "Train Epoch: 2 [20480/60000 (34%)]\tLoss: 0.221038\n",
      "Train Epoch: 2 [21760/60000 (36%)]\tLoss: 0.198694\n",
      "Train Epoch: 2 [23040/60000 (38%)]\tLoss: 0.294684\n",
      "Train Epoch: 2 [24320/60000 (41%)]\tLoss: 0.296202\n",
      "Train Epoch: 2 [25600/60000 (43%)]\tLoss: 0.376157\n",
      "Train Epoch: 2 [26880/60000 (45%)]\tLoss: 0.287428\n",
      "Train Epoch: 2 [28160/60000 (47%)]\tLoss: 0.298766\n",
      "Train Epoch: 2 [29440/60000 (49%)]\tLoss: 0.277978\n",
      "Train Epoch: 2 [30720/60000 (51%)]\tLoss: 0.203806\n",
      "Train Epoch: 2 [32000/60000 (53%)]\tLoss: 0.285406\n",
      "Train Epoch: 2 [33280/60000 (55%)]\tLoss: 0.278481\n",
      "Train Epoch: 2 [34560/60000 (58%)]\tLoss: 0.162574\n",
      "Train Epoch: 2 [35840/60000 (60%)]\tLoss: 0.187965\n",
      "Train Epoch: 2 [37120/60000 (62%)]\tLoss: 0.200413\n",
      "Train Epoch: 2 [38400/60000 (64%)]\tLoss: 0.261875\n",
      "Train Epoch: 2 [39680/60000 (66%)]\tLoss: 0.257864\n",
      "Train Epoch: 2 [40960/60000 (68%)]\tLoss: 0.206114\n",
      "Train Epoch: 2 [42240/60000 (70%)]\tLoss: 0.265863\n",
      "Train Epoch: 2 [43520/60000 (72%)]\tLoss: 0.273622\n",
      "Train Epoch: 2 [44800/60000 (75%)]\tLoss: 0.114988\n",
      "Train Epoch: 2 [46080/60000 (77%)]\tLoss: 0.449480\n",
      "Train Epoch: 2 [47360/60000 (79%)]\tLoss: 0.220214\n",
      "Train Epoch: 2 [48640/60000 (81%)]\tLoss: 0.203480\n",
      "Train Epoch: 2 [49920/60000 (83%)]\tLoss: 0.325786\n",
      "Train Epoch: 2 [51200/60000 (85%)]\tLoss: 0.308008\n",
      "Train Epoch: 2 [52480/60000 (87%)]\tLoss: 0.212065\n",
      "Train Epoch: 2 [53760/60000 (90%)]\tLoss: 0.300581\n",
      "Train Epoch: 2 [55040/60000 (92%)]\tLoss: 0.182047\n",
      "Train Epoch: 2 [56320/60000 (94%)]\tLoss: 0.320206\n",
      "Train Epoch: 2 [57600/60000 (96%)]\tLoss: 0.226182\n",
      "Train Epoch: 2 [58880/60000 (98%)]\tLoss: 0.308797\n",
      "\n",
      "Test set: Avg. loss: 0.0939, Accuracy: 58283/60000 (97%)\n",
      "\n",
      "Train Epoch: 3 [0/60000 (0%)]\tLoss: 0.113687\n",
      "Train Epoch: 3 [1280/60000 (2%)]\tLoss: 0.240465\n",
      "Train Epoch: 3 [2560/60000 (4%)]\tLoss: 0.152611\n",
      "Train Epoch: 3 [3840/60000 (6%)]\tLoss: 0.285854\n",
      "Train Epoch: 3 [5120/60000 (9%)]\tLoss: 0.172361\n",
      "Train Epoch: 3 [6400/60000 (11%)]\tLoss: 0.188495\n",
      "Train Epoch: 3 [7680/60000 (13%)]\tLoss: 0.213099\n",
      "Train Epoch: 3 [8960/60000 (15%)]\tLoss: 0.359279\n",
      "Train Epoch: 3 [10240/60000 (17%)]\tLoss: 0.199608\n",
      "Train Epoch: 3 [11520/60000 (19%)]\tLoss: 0.271993\n",
      "Train Epoch: 3 [12800/60000 (21%)]\tLoss: 0.244845\n",
      "Train Epoch: 3 [14080/60000 (23%)]\tLoss: 0.438413\n",
      "Train Epoch: 3 [15360/60000 (26%)]\tLoss: 0.173281\n",
      "Train Epoch: 3 [16640/60000 (28%)]\tLoss: 0.325684\n",
      "Train Epoch: 3 [17920/60000 (30%)]\tLoss: 0.334470\n",
      "Train Epoch: 3 [19200/60000 (32%)]\tLoss: 0.272022\n",
      "Train Epoch: 3 [20480/60000 (34%)]\tLoss: 0.235971\n",
      "Train Epoch: 3 [21760/60000 (36%)]\tLoss: 0.274613\n",
      "Train Epoch: 3 [23040/60000 (38%)]\tLoss: 0.183663\n",
      "Train Epoch: 3 [24320/60000 (41%)]\tLoss: 0.232849\n",
      "Train Epoch: 3 [25600/60000 (43%)]\tLoss: 0.329078\n",
      "Train Epoch: 3 [26880/60000 (45%)]\tLoss: 0.370934\n",
      "Train Epoch: 3 [28160/60000 (47%)]\tLoss: 0.166421\n",
      "Train Epoch: 3 [29440/60000 (49%)]\tLoss: 0.321239\n",
      "Train Epoch: 3 [30720/60000 (51%)]\tLoss: 0.249524\n",
      "Train Epoch: 3 [32000/60000 (53%)]\tLoss: 0.307810\n",
      "Train Epoch: 3 [33280/60000 (55%)]\tLoss: 0.278135\n",
      "Train Epoch: 3 [34560/60000 (58%)]\tLoss: 0.348417\n",
      "Train Epoch: 3 [35840/60000 (60%)]\tLoss: 0.269224\n",
      "Train Epoch: 3 [37120/60000 (62%)]\tLoss: 0.167401\n",
      "Train Epoch: 3 [38400/60000 (64%)]\tLoss: 0.224964\n",
      "Train Epoch: 3 [39680/60000 (66%)]\tLoss: 0.209272\n",
      "Train Epoch: 3 [40960/60000 (68%)]\tLoss: 0.242820\n",
      "Train Epoch: 3 [42240/60000 (70%)]\tLoss: 0.300533\n",
      "Train Epoch: 3 [43520/60000 (72%)]\tLoss: 0.196346\n",
      "Train Epoch: 3 [44800/60000 (75%)]\tLoss: 0.253650\n",
      "Train Epoch: 3 [46080/60000 (77%)]\tLoss: 0.376810\n",
      "Train Epoch: 3 [47360/60000 (79%)]\tLoss: 0.307180\n",
      "Train Epoch: 3 [48640/60000 (81%)]\tLoss: 0.201819\n",
      "Train Epoch: 3 [49920/60000 (83%)]\tLoss: 0.174548\n",
      "Train Epoch: 3 [51200/60000 (85%)]\tLoss: 0.170745\n",
      "Train Epoch: 3 [52480/60000 (87%)]\tLoss: 0.249358\n",
      "Train Epoch: 3 [53760/60000 (90%)]\tLoss: 0.230731\n",
      "Train Epoch: 3 [55040/60000 (92%)]\tLoss: 0.184607\n",
      "Train Epoch: 3 [56320/60000 (94%)]\tLoss: 0.340181\n",
      "Train Epoch: 3 [57600/60000 (96%)]\tLoss: 0.350860\n",
      "Train Epoch: 3 [58880/60000 (98%)]\tLoss: 0.188542\n",
      "\n",
      "Test set: Avg. loss: 0.0875, Accuracy: 58402/60000 (97%)\n",
      "\n",
      "Train Epoch: 4 [0/60000 (0%)]\tLoss: 0.210705\n",
      "Train Epoch: 4 [1280/60000 (2%)]\tLoss: 0.334118\n",
      "Train Epoch: 4 [2560/60000 (4%)]\tLoss: 0.221520\n",
      "Train Epoch: 4 [3840/60000 (6%)]\tLoss: 0.164284\n",
      "Train Epoch: 4 [5120/60000 (9%)]\tLoss: 0.185012\n",
      "Train Epoch: 4 [6400/60000 (11%)]\tLoss: 0.270984\n",
      "Train Epoch: 4 [7680/60000 (13%)]\tLoss: 0.193975\n",
      "Train Epoch: 4 [8960/60000 (15%)]\tLoss: 0.219022\n",
      "Train Epoch: 4 [10240/60000 (17%)]\tLoss: 0.281993\n",
      "Train Epoch: 4 [11520/60000 (19%)]\tLoss: 0.237138\n",
      "Train Epoch: 4 [12800/60000 (21%)]\tLoss: 0.270815\n",
      "Train Epoch: 4 [14080/60000 (23%)]\tLoss: 0.185997\n",
      "Train Epoch: 4 [15360/60000 (26%)]\tLoss: 0.189838\n",
      "Train Epoch: 4 [16640/60000 (28%)]\tLoss: 0.254473\n",
      "Train Epoch: 4 [17920/60000 (30%)]\tLoss: 0.239712\n",
      "Train Epoch: 4 [19200/60000 (32%)]\tLoss: 0.148539\n",
      "Train Epoch: 4 [20480/60000 (34%)]\tLoss: 0.449793\n",
      "Train Epoch: 4 [21760/60000 (36%)]\tLoss: 0.179662\n",
      "Train Epoch: 4 [23040/60000 (38%)]\tLoss: 0.278429\n",
      "Train Epoch: 4 [24320/60000 (41%)]\tLoss: 0.226133\n",
      "Train Epoch: 4 [25600/60000 (43%)]\tLoss: 0.153487\n",
      "Train Epoch: 4 [26880/60000 (45%)]\tLoss: 0.393617\n",
      "Train Epoch: 4 [28160/60000 (47%)]\tLoss: 0.110401\n",
      "Train Epoch: 4 [29440/60000 (49%)]\tLoss: 0.130432\n",
      "Train Epoch: 4 [30720/60000 (51%)]\tLoss: 0.334454\n",
      "Train Epoch: 4 [32000/60000 (53%)]\tLoss: 0.172978\n",
      "Train Epoch: 4 [33280/60000 (55%)]\tLoss: 0.267987\n",
      "Train Epoch: 4 [34560/60000 (58%)]\tLoss: 0.188366\n",
      "Train Epoch: 4 [35840/60000 (60%)]\tLoss: 0.251469\n",
      "Train Epoch: 4 [37120/60000 (62%)]\tLoss: 0.079182\n",
      "Train Epoch: 4 [38400/60000 (64%)]\tLoss: 0.342831\n",
      "Train Epoch: 4 [39680/60000 (66%)]\tLoss: 0.153445\n",
      "Train Epoch: 4 [40960/60000 (68%)]\tLoss: 0.221464\n",
      "Train Epoch: 4 [42240/60000 (70%)]\tLoss: 0.257080\n",
      "Train Epoch: 4 [43520/60000 (72%)]\tLoss: 0.162138\n",
      "Train Epoch: 4 [44800/60000 (75%)]\tLoss: 0.202356\n",
      "Train Epoch: 4 [46080/60000 (77%)]\tLoss: 0.228605\n",
      "Train Epoch: 4 [47360/60000 (79%)]\tLoss: 0.334075\n",
      "Train Epoch: 4 [48640/60000 (81%)]\tLoss: 0.134292\n",
      "Train Epoch: 4 [49920/60000 (83%)]\tLoss: 0.205744\n",
      "Train Epoch: 4 [51200/60000 (85%)]\tLoss: 0.244820\n",
      "Train Epoch: 4 [52480/60000 (87%)]\tLoss: 0.248662\n",
      "Train Epoch: 4 [53760/60000 (90%)]\tLoss: 0.403791\n",
      "Train Epoch: 4 [55040/60000 (92%)]\tLoss: 0.261247\n",
      "Train Epoch: 4 [56320/60000 (94%)]\tLoss: 0.276845\n",
      "Train Epoch: 4 [57600/60000 (96%)]\tLoss: 0.157884\n",
      "Train Epoch: 4 [58880/60000 (98%)]\tLoss: 0.389150\n",
      "\n",
      "Test set: Avg. loss: 0.0838, Accuracy: 58477/60000 (97%)\n",
      "\n",
      "Train Epoch: 5 [0/60000 (0%)]\tLoss: 0.095428\n",
      "Train Epoch: 5 [1280/60000 (2%)]\tLoss: 0.159529\n",
      "Train Epoch: 5 [2560/60000 (4%)]\tLoss: 0.333516\n",
      "Train Epoch: 5 [3840/60000 (6%)]\tLoss: 0.424193\n",
      "Train Epoch: 5 [5120/60000 (9%)]\tLoss: 0.277497\n",
      "Train Epoch: 5 [6400/60000 (11%)]\tLoss: 0.179001\n",
      "Train Epoch: 5 [7680/60000 (13%)]\tLoss: 0.216369\n",
      "Train Epoch: 5 [8960/60000 (15%)]\tLoss: 0.157873\n",
      "Train Epoch: 5 [10240/60000 (17%)]\tLoss: 0.215034\n",
      "Train Epoch: 5 [11520/60000 (19%)]\tLoss: 0.220281\n",
      "Train Epoch: 5 [12800/60000 (21%)]\tLoss: 0.210856\n",
      "Train Epoch: 5 [14080/60000 (23%)]\tLoss: 0.291214\n",
      "Train Epoch: 5 [15360/60000 (26%)]\tLoss: 0.313569\n",
      "Train Epoch: 5 [16640/60000 (28%)]\tLoss: 0.261261\n",
      "Train Epoch: 5 [17920/60000 (30%)]\tLoss: 0.186467\n",
      "Train Epoch: 5 [19200/60000 (32%)]\tLoss: 0.186755\n",
      "Train Epoch: 5 [20480/60000 (34%)]\tLoss: 0.215538\n",
      "Train Epoch: 5 [21760/60000 (36%)]\tLoss: 0.264616\n",
      "Train Epoch: 5 [23040/60000 (38%)]\tLoss: 0.321407\n",
      "Train Epoch: 5 [24320/60000 (41%)]\tLoss: 0.173506\n",
      "Train Epoch: 5 [25600/60000 (43%)]\tLoss: 0.194585\n",
      "Train Epoch: 5 [26880/60000 (45%)]\tLoss: 0.302882\n",
      "Train Epoch: 5 [28160/60000 (47%)]\tLoss: 0.143588\n",
      "Train Epoch: 5 [29440/60000 (49%)]\tLoss: 0.199782\n",
      "Train Epoch: 5 [30720/60000 (51%)]\tLoss: 0.379644\n",
      "Train Epoch: 5 [32000/60000 (53%)]\tLoss: 0.304058\n",
      "Train Epoch: 5 [33280/60000 (55%)]\tLoss: 0.264917\n",
      "Train Epoch: 5 [34560/60000 (58%)]\tLoss: 0.163013\n",
      "Train Epoch: 5 [35840/60000 (60%)]\tLoss: 0.241395\n",
      "Train Epoch: 5 [37120/60000 (62%)]\tLoss: 0.240462\n",
      "Train Epoch: 5 [38400/60000 (64%)]\tLoss: 0.184631\n",
      "Train Epoch: 5 [39680/60000 (66%)]\tLoss: 0.193677\n",
      "Train Epoch: 5 [40960/60000 (68%)]\tLoss: 0.136389\n",
      "Train Epoch: 5 [42240/60000 (70%)]\tLoss: 0.195031\n",
      "Train Epoch: 5 [43520/60000 (72%)]\tLoss: 0.208150\n",
      "Train Epoch: 5 [44800/60000 (75%)]\tLoss: 0.202659\n",
      "Train Epoch: 5 [46080/60000 (77%)]\tLoss: 0.216071\n",
      "Train Epoch: 5 [47360/60000 (79%)]\tLoss: 0.188558\n",
      "Train Epoch: 5 [48640/60000 (81%)]\tLoss: 0.215095\n",
      "Train Epoch: 5 [49920/60000 (83%)]\tLoss: 0.276694\n",
      "Train Epoch: 5 [51200/60000 (85%)]\tLoss: 0.197031\n",
      "Train Epoch: 5 [52480/60000 (87%)]\tLoss: 0.219430\n",
      "Train Epoch: 5 [53760/60000 (90%)]\tLoss: 0.287162\n",
      "Train Epoch: 5 [55040/60000 (92%)]\tLoss: 0.130849\n",
      "Train Epoch: 5 [56320/60000 (94%)]\tLoss: 0.327777\n",
      "Train Epoch: 5 [57600/60000 (96%)]\tLoss: 0.132339\n",
      "Train Epoch: 5 [58880/60000 (98%)]\tLoss: 0.217584\n",
      "\n",
      "Test set: Avg. loss: 0.0793, Accuracy: 58594/60000 (98%)\n",
      "\n"
     ]
    }
   ],
   "source": [
    "for epoch in range(1, n_epochs + 1):\n",
    "  train(epoch)\n",
    "  test()"
   ]
  },
  {
   "cell_type": "code",
   "execution_count": 138,
   "metadata": {},
   "outputs": [],
   "source": [
    "import matplotlib.pyplot as plt"
   ]
  },
  {
   "cell_type": "code",
   "execution_count": 139,
   "metadata": {},
   "outputs": [
    {
     "ename": "ValueError",
     "evalue": "x and y must be the same size",
     "output_type": "error",
     "traceback": [
      "\u001b[1;31m---------------------------------------------------------------------------\u001b[0m",
      "\u001b[1;31mValueError\u001b[0m                                Traceback (most recent call last)",
      "\u001b[1;32md:\\code\\pytorch_mnist\\mnist.ipynb Cell 33\u001b[0m in \u001b[0;36m<cell line: 3>\u001b[1;34m()\u001b[0m\n\u001b[0;32m      <a href='vscode-notebook-cell:/d%3A/code/pytorch_mnist/mnist.ipynb#X51sZmlsZQ%3D%3D?line=0'>1</a>\u001b[0m fig \u001b[39m=\u001b[39m plt\u001b[39m.\u001b[39mfigure()\n\u001b[0;32m      <a href='vscode-notebook-cell:/d%3A/code/pytorch_mnist/mnist.ipynb#X51sZmlsZQ%3D%3D?line=1'>2</a>\u001b[0m plt\u001b[39m.\u001b[39mplot(train_counter, train_losses, color\u001b[39m=\u001b[39m\u001b[39m'\u001b[39m\u001b[39mblue\u001b[39m\u001b[39m'\u001b[39m)\n\u001b[1;32m----> <a href='vscode-notebook-cell:/d%3A/code/pytorch_mnist/mnist.ipynb#X51sZmlsZQ%3D%3D?line=2'>3</a>\u001b[0m plt\u001b[39m.\u001b[39;49mscatter(test_counter, test_losses, color\u001b[39m=\u001b[39;49m\u001b[39m'\u001b[39;49m\u001b[39mred\u001b[39;49m\u001b[39m'\u001b[39;49m)\n\u001b[0;32m      <a href='vscode-notebook-cell:/d%3A/code/pytorch_mnist/mnist.ipynb#X51sZmlsZQ%3D%3D?line=3'>4</a>\u001b[0m plt\u001b[39m.\u001b[39mlegend([\u001b[39m'\u001b[39m\u001b[39mTrain Loss\u001b[39m\u001b[39m'\u001b[39m, \u001b[39m'\u001b[39m\u001b[39mTest Loss\u001b[39m\u001b[39m'\u001b[39m], loc\u001b[39m=\u001b[39m\u001b[39m'\u001b[39m\u001b[39mupper right\u001b[39m\u001b[39m'\u001b[39m)\n\u001b[0;32m      <a href='vscode-notebook-cell:/d%3A/code/pytorch_mnist/mnist.ipynb#X51sZmlsZQ%3D%3D?line=4'>5</a>\u001b[0m plt\u001b[39m.\u001b[39mxlabel(\u001b[39m'\u001b[39m\u001b[39mnumber of training examples seen\u001b[39m\u001b[39m'\u001b[39m)\n",
      "File \u001b[1;32mc:\\Users\\jose\\anaconda3\\envs\\pytorch\\lib\\site-packages\\matplotlib\\pyplot.py:2819\u001b[0m, in \u001b[0;36mscatter\u001b[1;34m(x, y, s, c, marker, cmap, norm, vmin, vmax, alpha, linewidths, edgecolors, plotnonfinite, data, **kwargs)\u001b[0m\n\u001b[0;32m   2814\u001b[0m \u001b[39m@_copy_docstring_and_deprecators\u001b[39m(Axes\u001b[39m.\u001b[39mscatter)\n\u001b[0;32m   2815\u001b[0m \u001b[39mdef\u001b[39;00m \u001b[39mscatter\u001b[39m(\n\u001b[0;32m   2816\u001b[0m         x, y, s\u001b[39m=\u001b[39m\u001b[39mNone\u001b[39;00m, c\u001b[39m=\u001b[39m\u001b[39mNone\u001b[39;00m, marker\u001b[39m=\u001b[39m\u001b[39mNone\u001b[39;00m, cmap\u001b[39m=\u001b[39m\u001b[39mNone\u001b[39;00m, norm\u001b[39m=\u001b[39m\u001b[39mNone\u001b[39;00m,\n\u001b[0;32m   2817\u001b[0m         vmin\u001b[39m=\u001b[39m\u001b[39mNone\u001b[39;00m, vmax\u001b[39m=\u001b[39m\u001b[39mNone\u001b[39;00m, alpha\u001b[39m=\u001b[39m\u001b[39mNone\u001b[39;00m, linewidths\u001b[39m=\u001b[39m\u001b[39mNone\u001b[39;00m, \u001b[39m*\u001b[39m,\n\u001b[0;32m   2818\u001b[0m         edgecolors\u001b[39m=\u001b[39m\u001b[39mNone\u001b[39;00m, plotnonfinite\u001b[39m=\u001b[39m\u001b[39mFalse\u001b[39;00m, data\u001b[39m=\u001b[39m\u001b[39mNone\u001b[39;00m, \u001b[39m*\u001b[39m\u001b[39m*\u001b[39mkwargs):\n\u001b[1;32m-> 2819\u001b[0m     __ret \u001b[39m=\u001b[39m gca()\u001b[39m.\u001b[39mscatter(\n\u001b[0;32m   2820\u001b[0m         x, y, s\u001b[39m=\u001b[39ms, c\u001b[39m=\u001b[39mc, marker\u001b[39m=\u001b[39mmarker, cmap\u001b[39m=\u001b[39mcmap, norm\u001b[39m=\u001b[39mnorm,\n\u001b[0;32m   2821\u001b[0m         vmin\u001b[39m=\u001b[39mvmin, vmax\u001b[39m=\u001b[39mvmax, alpha\u001b[39m=\u001b[39malpha, linewidths\u001b[39m=\u001b[39mlinewidths,\n\u001b[0;32m   2822\u001b[0m         edgecolors\u001b[39m=\u001b[39medgecolors, plotnonfinite\u001b[39m=\u001b[39mplotnonfinite,\n\u001b[0;32m   2823\u001b[0m         \u001b[39m*\u001b[39m\u001b[39m*\u001b[39m({\u001b[39m\"\u001b[39m\u001b[39mdata\u001b[39m\u001b[39m\"\u001b[39m: data} \u001b[39mif\u001b[39;00m data \u001b[39mis\u001b[39;00m \u001b[39mnot\u001b[39;00m \u001b[39mNone\u001b[39;00m \u001b[39melse\u001b[39;00m {}), \u001b[39m*\u001b[39m\u001b[39m*\u001b[39mkwargs)\n\u001b[0;32m   2824\u001b[0m     sci(__ret)\n\u001b[0;32m   2825\u001b[0m     \u001b[39mreturn\u001b[39;00m __ret\n",
      "File \u001b[1;32mc:\\Users\\jose\\anaconda3\\envs\\pytorch\\lib\\site-packages\\matplotlib\\__init__.py:1412\u001b[0m, in \u001b[0;36m_preprocess_data.<locals>.inner\u001b[1;34m(ax, data, *args, **kwargs)\u001b[0m\n\u001b[0;32m   1409\u001b[0m \u001b[39m@functools\u001b[39m\u001b[39m.\u001b[39mwraps(func)\n\u001b[0;32m   1410\u001b[0m \u001b[39mdef\u001b[39;00m \u001b[39minner\u001b[39m(ax, \u001b[39m*\u001b[39margs, data\u001b[39m=\u001b[39m\u001b[39mNone\u001b[39;00m, \u001b[39m*\u001b[39m\u001b[39m*\u001b[39mkwargs):\n\u001b[0;32m   1411\u001b[0m     \u001b[39mif\u001b[39;00m data \u001b[39mis\u001b[39;00m \u001b[39mNone\u001b[39;00m:\n\u001b[1;32m-> 1412\u001b[0m         \u001b[39mreturn\u001b[39;00m func(ax, \u001b[39m*\u001b[39m\u001b[39mmap\u001b[39m(sanitize_sequence, args), \u001b[39m*\u001b[39m\u001b[39m*\u001b[39mkwargs)\n\u001b[0;32m   1414\u001b[0m     bound \u001b[39m=\u001b[39m new_sig\u001b[39m.\u001b[39mbind(ax, \u001b[39m*\u001b[39margs, \u001b[39m*\u001b[39m\u001b[39m*\u001b[39mkwargs)\n\u001b[0;32m   1415\u001b[0m     auto_label \u001b[39m=\u001b[39m (bound\u001b[39m.\u001b[39marguments\u001b[39m.\u001b[39mget(label_namer)\n\u001b[0;32m   1416\u001b[0m                   \u001b[39mor\u001b[39;00m bound\u001b[39m.\u001b[39mkwargs\u001b[39m.\u001b[39mget(label_namer))\n",
      "File \u001b[1;32mc:\\Users\\jose\\anaconda3\\envs\\pytorch\\lib\\site-packages\\matplotlib\\axes\\_axes.py:4362\u001b[0m, in \u001b[0;36mAxes.scatter\u001b[1;34m(self, x, y, s, c, marker, cmap, norm, vmin, vmax, alpha, linewidths, edgecolors, plotnonfinite, **kwargs)\u001b[0m\n\u001b[0;32m   4360\u001b[0m y \u001b[39m=\u001b[39m np\u001b[39m.\u001b[39mma\u001b[39m.\u001b[39mravel(y)\n\u001b[0;32m   4361\u001b[0m \u001b[39mif\u001b[39;00m x\u001b[39m.\u001b[39msize \u001b[39m!=\u001b[39m y\u001b[39m.\u001b[39msize:\n\u001b[1;32m-> 4362\u001b[0m     \u001b[39mraise\u001b[39;00m \u001b[39mValueError\u001b[39;00m(\u001b[39m\"\u001b[39m\u001b[39mx and y must be the same size\u001b[39m\u001b[39m\"\u001b[39m)\n\u001b[0;32m   4364\u001b[0m \u001b[39mif\u001b[39;00m s \u001b[39mis\u001b[39;00m \u001b[39mNone\u001b[39;00m:\n\u001b[0;32m   4365\u001b[0m     s \u001b[39m=\u001b[39m (\u001b[39m20\u001b[39m \u001b[39mif\u001b[39;00m rcParams[\u001b[39m'\u001b[39m\u001b[39m_internal.classic_mode\u001b[39m\u001b[39m'\u001b[39m] \u001b[39melse\u001b[39;00m\n\u001b[0;32m   4366\u001b[0m          rcParams[\u001b[39m'\u001b[39m\u001b[39mlines.markersize\u001b[39m\u001b[39m'\u001b[39m] \u001b[39m*\u001b[39m\u001b[39m*\u001b[39m \u001b[39m2.0\u001b[39m)\n",
      "\u001b[1;31mValueError\u001b[0m: x and y must be the same size"
     ]
    },
    {
     "data": {
      "image/png": "[encoded data removed]",
      "text/plain": [
       "<Figure size 432x288 with 1 Axes>"
      ]
     },
     "metadata": {
      "needs_background": "light"
     },
     "output_type": "display_data"
    }
   ],
   "source": [
    "fig = plt.figure()\n",
    "plt.plot(train_counter, train_losses, color='blue')\n",
    "plt.scatter(test_counter, test_losses, color='red')\n",
    "plt.legend(['Train Loss', 'Test Loss'], loc='upper right')\n",
    "plt.xlabel('number of training examples seen')\n",
    "plt.ylabel('negative log likelihood loss')\n",
    "fig"
   ]
  }
 ],
 "metadata": {
  "kernelspec": {
   "display_name": "Python 3.10.4 ('pytorch')",
   "language": "python",
   "name": "python3"
  },
  "language_info": {
   "codemirror_mode": {
    "name": "ipython",
    "version": 3
   },
   "file_extension": ".py",
   "mimetype": "text/x-python",
   "name": "python",
   "nbconvert_exporter": "python",
   "pygments_lexer": "ipython3",
   "version": "3.10.4"
  },
  "orig_nbformat": 4,
  "vscode": {
   "interpreter": {
    "hash": "10924a18004a67fec4ca520671884f363c8f96c2bbf22c2f0b2adbd21b6731df"
   }
  }
 },
 "nbformat": 4,
 "nbformat_minor": 2
}
