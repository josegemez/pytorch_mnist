{
 "cells": [
  {
   "cell_type": "markdown",
   "metadata": {},
   "source": [
    "# Pytorch\n",
    "Ejemplo de clasificador con Pytorch, comentado en español. \n",
    "\n",
    "El cuaderno de Jupyter se ha desarrollado con Visual Code y puedes encontrar el código en https://github.com/josegemez/pytorch_mnist \n",
    "\n",
    "Se ha desarrollado en python 3.10.4 "
   ]
  },
  {
   "cell_type": "markdown",
   "metadata": {},
   "source": [
    "## Import\n",
    "Con las primeras lineas vamos a importar los paquetes que básicos de Pytorch. "
   ]
  },
  {
   "cell_type": "code",
   "execution_count": 81,
   "metadata": {},
   "outputs": [],
   "source": [
    "import torch\n",
    "import torchvision"
   ]
  },
  {
   "cell_type": "markdown",
   "metadata": {},
   "source": [
    "## Variables Generales"
   ]
  },
  {
   "cell_type": "code",
   "execution_count": 82,
   "metadata": {},
   "outputs": [],
   "source": [
    "batch_size_train = 256"
   ]
  },
  {
   "cell_type": "markdown",
   "metadata": {},
   "source": [
    "## Transformaciones "
   ]
  },
  {
   "cell_type": "code",
   "execution_count": 83,
   "metadata": {},
   "outputs": [],
   "source": [
    "transforms=torchvision.transforms.Compose([\n",
    "                            torchvision.transforms.ToTensor(),\n",
    "                            torchvision.transforms.Normalize((0.1307,), (0.3081,))\n",
    "                            ])"
   ]
  },
  {
   "cell_type": "markdown",
   "metadata": {},
   "source": [
    "## Dataset Entrenamiento"
   ]
  },
  {
   "cell_type": "code",
   "execution_count": 84,
   "metadata": {},
   "outputs": [],
   "source": [
    "dataset_mnist = torchvision.datasets.MNIST('/files/', train=True, download=True, transform=transforms)                    "
   ]
  },
  {
   "cell_type": "markdown",
   "metadata": {},
   "source": [
    "## Dataloader"
   ]
  },
  {
   "cell_type": "code",
   "execution_count": 85,
   "metadata": {},
   "outputs": [],
   "source": [
    "train_loader = torch.utils.data.DataLoader(dataset_mnist,  batch_size=batch_size_train, shuffle=True,num_workers=1,pin_memory=True)"
   ]
  },
  {
   "cell_type": "markdown",
   "metadata": {},
   "source": [
    "Vamos a ver que \"pinta\" tiene cada elemento del cargador"
   ]
  },
  {
   "cell_type": "code",
   "execution_count": 86,
   "metadata": {},
   "outputs": [],
   "source": [
    "x, y = next(iter(train_loader)) #asignamos el primer batch a las variables x e y. La variable X contrendra las imagenes e y contrendra las etiquetas"
   ]
  },
  {
   "cell_type": "code",
   "execution_count": 87,
   "metadata": {},
   "outputs": [
    {
     "data": {
      "text/plain": [
       "torch.Size([256, 1, 28, 28])"
      ]
     },
     "execution_count": 87,
     "metadata": {},
     "output_type": "execute_result"
    }
   ],
   "source": [
    "x.shape"
   ]
  },
  {
   "cell_type": "markdown",
   "metadata": {},
   "source": [
    "x es un batch, por lo que la primera dimensión coincidira con el batch size "
   ]
  },
  {
   "cell_type": "code",
   "execution_count": 88,
   "metadata": {},
   "outputs": [],
   "source": [
    "from matplotlib.pyplot import imshow"
   ]
  },
  {
   "cell_type": "code",
   "execution_count": 89,
   "metadata": {},
   "outputs": [
    {
     "data": {
      "image/png": "[encoded data removed]",
      "text/plain": [
       "<Figure size 432x288 with 1 Axes>"
      ]
     },
     "metadata": {
      "needs_background": "light"
     },
     "output_type": "display_data"
    }
   ],
   "source": [
    "imshow(x[0].view(28,28).numpy()); # transformamos el primer elemento del batch una matriz de numpy y mostramos con matplotlib"
   ]
  },
  {
   "cell_type": "code",
   "execution_count": 90,
   "metadata": {},
   "outputs": [
    {
     "data": {
      "text/plain": [
       "tensor([7, 6, 5, 1, 1, 3, 3, 4, 5, 7, 9, 8, 7, 9, 1, 9, 3, 2, 0, 6, 4, 1, 0, 8,\n",
       "        3, 4, 4, 9, 7, 1, 6, 6, 1, 9, 8, 3, 7, 0, 3, 7, 4, 9, 2, 2, 6, 4, 6, 5,\n",
       "        0, 9, 8, 1, 9, 7, 7, 0, 8, 5, 7, 5, 2, 4, 2, 3, 3, 3, 8, 6, 6, 6, 8, 5,\n",
       "        2, 9, 5, 8, 1, 3, 3, 7, 3, 2, 5, 4, 5, 8, 8, 0, 1, 2, 1, 4, 4, 0, 1, 7,\n",
       "        5, 1, 9, 5, 6, 0, 3, 4, 7, 4, 6, 8, 2, 7, 1, 5, 7, 9, 0, 3, 5, 4, 1, 7,\n",
       "        3, 3, 9, 9, 6, 7, 2, 2, 3, 1, 3, 2, 1, 8, 1, 0, 9, 5, 9, 1, 3, 6, 0, 4,\n",
       "        0, 4, 5, 6, 0, 2, 7, 1, 2, 6, 4, 1, 5, 8, 1, 6, 7, 0, 4, 5, 4, 8, 0, 7,\n",
       "        2, 2, 5, 7, 9, 8, 0, 0, 9, 6, 6, 3, 5, 0, 4, 0, 7, 4, 3, 5, 9, 0, 9, 7,\n",
       "        0, 0, 2, 6, 2, 2, 8, 9, 4, 1, 4, 7, 6, 0, 7, 5, 2, 9, 8, 6, 9, 2, 7, 4,\n",
       "        9, 6, 6, 6, 9, 1, 8, 7, 8, 3, 7, 4, 4, 4, 8, 0, 7, 1, 6, 6, 1, 8, 9, 4,\n",
       "        3, 3, 0, 5, 7, 8, 5, 7, 9, 9, 3, 8, 5, 1, 3, 7])"
      ]
     },
     "execution_count": 90,
     "metadata": {},
     "output_type": "execute_result"
    }
   ],
   "source": [
    "y"
   ]
  },
  {
   "cell_type": "markdown",
   "metadata": {},
   "source": [
    "## Dataset Test"
   ]
  },
  {
   "cell_type": "code",
   "execution_count": 91,
   "metadata": {},
   "outputs": [],
   "source": [
    "dataset_mnist_test = torchvision.datasets.MNIST('/files/', train=False, download=True, transform=transforms)  # Train ahora se pone en False    \n",
    "test_loader = torch.utils.data.DataLoader(dataset_mnist,  batch_size=batch_size_train, shuffle=True)              "
   ]
  },
  {
   "cell_type": "markdown",
   "metadata": {},
   "source": [
    "Ya tenemos los datos preparados, ahora vamos a crear la red"
   ]
  },
  {
   "cell_type": "code",
   "execution_count": 92,
   "metadata": {},
   "outputs": [],
   "source": [
    "learning_rate   =   0.01\n",
    "momentum   =   0.5\n",
    "n_epochs = 5\n",
    "log_interval   =   10"
   ]
  },
  {
   "cell_type": "code",
   "execution_count": 93,
   "metadata": {},
   "outputs": [],
   "source": [
    "import torch.nn as nn\n",
    "import torch.nn.functional as F\n",
    "import torch.optim as optim"
   ]
  },
  {
   "cell_type": "code",
   "execution_count": 94,
   "metadata": {},
   "outputs": [],
   "source": [
    "class Net(nn.Module):\n",
    "    def __init__(self):\n",
    "        super(Net, self).__init__()\n",
    "        self.conv1 = nn.Conv2d(1, 10, kernel_size=5)\n",
    "        self.conv2 = nn.Conv2d(10, 20, kernel_size=5)\n",
    "        self.conv2_drop = nn.Dropout2d()\n",
    "        self.fc1 = nn.Linear(320, 50)\n",
    "        self.fc2 = nn.Linear(50, 10)\n",
    "\n",
    "    def forward(self, x):\n",
    "        x = F.relu(F.max_pool2d(self.conv1(x), 2)) \n",
    "        x = F.relu(F.max_pool2d(self.conv2_drop(self.conv2(x)), 2))\n",
    "        x = x.view(-1, 320)\n",
    "        x = F.relu(self.fc1(x))\n",
    "        x = F.dropout(x, training=self.training)\n",
    "        x = self.fc2(x)\n",
    "        return F.log_softmax(x)"
   ]
  },
  {
   "cell_type": "code",
   "execution_count": 95,
   "metadata": {},
   "outputs": [
    {
     "data": {
      "text/plain": [
       "device(type='cuda')"
      ]
     },
     "execution_count": 95,
     "metadata": {},
     "output_type": "execute_result"
    }
   ],
   "source": [
    "#device = torch.device('cuda' if torch.cuda.is_available() else 'cpu')\n",
    "device = torch.device('cuda')\n",
    "device"
   ]
  },
  {
   "cell_type": "code",
   "execution_count": 96,
   "metadata": {},
   "outputs": [],
   "source": [
    "model = Net().to(device)\n",
    "optimizer = optim.SGD(model.parameters(), lr=learning_rate,\n",
    "                      momentum=momentum)"
   ]
  },
  {
   "cell_type": "code",
   "execution_count": 97,
   "metadata": {},
   "outputs": [
    {
     "data": {
      "text/plain": [
       "Net(\n",
       "  (conv1): Conv2d(1, 10, kernel_size=(5, 5), stride=(1, 1))\n",
       "  (conv2): Conv2d(10, 20, kernel_size=(5, 5), stride=(1, 1))\n",
       "  (conv2_drop): Dropout2d(p=0.5, inplace=False)\n",
       "  (fc1): Linear(in_features=320, out_features=50, bias=True)\n",
       "  (fc2): Linear(in_features=50, out_features=10, bias=True)\n",
       ")"
      ]
     },
     "execution_count": 97,
     "metadata": {},
     "output_type": "execute_result"
    }
   ],
   "source": [
    "model"
   ]
  },
  {
   "cell_type": "code",
   "execution_count": 98,
   "metadata": {},
   "outputs": [],
   "source": [
    "train_losses = []\n",
    "train_counter = []\n",
    "test_losses = []\n",
    "test_counter = [i*len(train_loader.dataset) for i in range(n_epochs + 1)]"
   ]
  },
  {
   "cell_type": "code",
   "execution_count": 99,
   "metadata": {},
   "outputs": [],
   "source": [
    "def train(epoch):\n",
    "  model.train()\n",
    "  for batch_idx, (data, target) in enumerate(train_loader):\n",
    "    data, target = data.to(device=device, non_blocking=True), target.to(device=device, non_blocking=True).long()\n",
    "    optimizer.zero_grad()\n",
    "    output = model(data)\n",
    "    loss = F.nll_loss(output, target)\n",
    "    loss.backward()\n",
    "    optimizer.step()\n",
    "    if batch_idx % log_interval == 0:\n",
    "      print('Train Epoch: {} [{}/{} ({:.0f}%)]\\tLoss: {:.6f}'.format(\n",
    "        epoch, batch_idx * len(data), len(train_loader.dataset),\n",
    "        100. * batch_idx / len(train_loader), loss.item()))\n",
    "      train_losses.append(loss.item())\n",
    "      train_counter.append(\n",
    "        (batch_idx*64) + ((epoch-1)*len(train_loader.dataset)))\n",
    "      torch.save(model.state_dict(), 'results/model.pth')\n",
    "      torch.save(optimizer.state_dict(), 'results/optimizer.pth')"
   ]
  },
  {
   "cell_type": "code",
   "execution_count": 100,
   "metadata": {},
   "outputs": [],
   "source": [
    "def test():\n",
    "  model.eval()\n",
    "  test_loss = 0\n",
    "  correct = 0\n",
    "  with torch.no_grad():\n",
    "    for data, target in test_loader:\n",
    "      data, target = data.to(device=device, non_blocking=True), target.to(device=device)\n",
    "      output = model(data)\n",
    "      test_loss += F.nll_loss(output, target, size_average=False).item()\n",
    "      pred = output.data.max(1, keepdim=True)[1]\n",
    "      correct += pred.eq(target.data.view_as(pred)).sum()\n",
    "  test_loss /= len(test_loader.dataset)\n",
    "  test_losses.append(test_loss)\n",
    "  print('\\nTest set: Avg. loss: {:.4f}, Accuracy: {}/{} ({:.0f}%)\\n'.format(\n",
    "    test_loss, correct, len(test_loader.dataset),\n",
    "    100. * correct / len(test_loader.dataset)))"
   ]
  },
  {
   "cell_type": "code",
   "execution_count": 101,
   "metadata": {},
   "outputs": [
    {
     "name": "stderr",
     "output_type": "stream",
     "text": [
      "C:\\Users\\jose\\AppData\\Local\\Temp\\ipykernel_21800\\746712537.py:17: UserWarning: Implicit dimension choice for log_softmax has been deprecated. Change the call to include dim=X as an argument.\n",
      "  return F.log_softmax(x)\n"
     ]
    },
    {
     "name": "stdout",
     "output_type": "stream",
     "text": [
      "\n",
      "Test set: Avg. loss: 2.3225, Accuracy: 5614/60000 (9%)\n",
      "\n",
      "Train Epoch: 1 [0/60000 (0%)]\tLoss: 2.361528\n",
      "Train Epoch: 1 [2560/60000 (4%)]\tLoss: 2.314111\n",
      "Train Epoch: 1 [5120/60000 (9%)]\tLoss: 2.280286\n",
      "Train Epoch: 1 [7680/60000 (13%)]\tLoss: 2.262894\n",
      "Train Epoch: 1 [10240/60000 (17%)]\tLoss: 2.242131\n",
      "Train Epoch: 1 [12800/60000 (21%)]\tLoss: 2.192151\n",
      "Train Epoch: 1 [15360/60000 (26%)]\tLoss: 2.155371\n",
      "Train Epoch: 1 [17920/60000 (30%)]\tLoss: 2.136831\n",
      "Train Epoch: 1 [20480/60000 (34%)]\tLoss: 1.999154\n",
      "Train Epoch: 1 [23040/60000 (38%)]\tLoss: 1.904740\n",
      "Train Epoch: 1 [25600/60000 (43%)]\tLoss: 1.793870\n",
      "Train Epoch: 1 [28160/60000 (47%)]\tLoss: 1.679193\n",
      "Train Epoch: 1 [30720/60000 (51%)]\tLoss: 1.512187\n",
      "Train Epoch: 1 [33280/60000 (55%)]\tLoss: 1.432065\n",
      "Train Epoch: 1 [35840/60000 (60%)]\tLoss: 1.293519\n",
      "Train Epoch: 1 [38400/60000 (64%)]\tLoss: 1.284943\n",
      "Train Epoch: 1 [40960/60000 (68%)]\tLoss: 1.227025\n",
      "Train Epoch: 1 [43520/60000 (72%)]\tLoss: 1.135492\n",
      "Train Epoch: 1 [46080/60000 (77%)]\tLoss: 1.000624\n",
      "Train Epoch: 1 [48640/60000 (81%)]\tLoss: 1.108534\n",
      "Train Epoch: 1 [51200/60000 (85%)]\tLoss: 0.968351\n",
      "Train Epoch: 1 [53760/60000 (89%)]\tLoss: 1.002360\n",
      "Train Epoch: 1 [56320/60000 (94%)]\tLoss: 0.932837\n",
      "Train Epoch: 1 [58880/60000 (98%)]\tLoss: 0.893107\n",
      "\n",
      "Test set: Avg. loss: 0.5217, Accuracy: 51631/60000 (86%)\n",
      "\n",
      "Train Epoch: 2 [0/60000 (0%)]\tLoss: 0.870513\n",
      "Train Epoch: 2 [2560/60000 (4%)]\tLoss: 0.901106\n",
      "Train Epoch: 2 [5120/60000 (9%)]\tLoss: 0.850441\n",
      "Train Epoch: 2 [7680/60000 (13%)]\tLoss: 0.773637\n",
      "Train Epoch: 2 [10240/60000 (17%)]\tLoss: 0.779966\n",
      "Train Epoch: 2 [12800/60000 (21%)]\tLoss: 0.780365\n",
      "Train Epoch: 2 [15360/60000 (26%)]\tLoss: 0.695717\n",
      "Train Epoch: 2 [17920/60000 (30%)]\tLoss: 0.809890\n",
      "Train Epoch: 2 [20480/60000 (34%)]\tLoss: 0.752733\n",
      "Train Epoch: 2 [23040/60000 (38%)]\tLoss: 0.711647\n",
      "Train Epoch: 2 [25600/60000 (43%)]\tLoss: 0.740297\n",
      "Train Epoch: 2 [28160/60000 (47%)]\tLoss: 0.703183\n",
      "Train Epoch: 2 [30720/60000 (51%)]\tLoss: 0.635203\n",
      "Train Epoch: 2 [33280/60000 (55%)]\tLoss: 0.758849\n",
      "Train Epoch: 2 [35840/60000 (60%)]\tLoss: 0.802303\n",
      "Train Epoch: 2 [38400/60000 (64%)]\tLoss: 0.557800\n",
      "Train Epoch: 2 [40960/60000 (68%)]\tLoss: 0.592769\n",
      "Train Epoch: 2 [43520/60000 (72%)]\tLoss: 0.646941\n",
      "Train Epoch: 2 [46080/60000 (77%)]\tLoss: 0.580565\n",
      "Train Epoch: 2 [48640/60000 (81%)]\tLoss: 0.712294\n",
      "Train Epoch: 2 [51200/60000 (85%)]\tLoss: 0.705192\n",
      "Train Epoch: 2 [53760/60000 (89%)]\tLoss: 0.684718\n",
      "Train Epoch: 2 [56320/60000 (94%)]\tLoss: 0.728088\n",
      "Train Epoch: 2 [58880/60000 (98%)]\tLoss: 0.525904\n",
      "\n",
      "Test set: Avg. loss: 0.3096, Accuracy: 54709/60000 (91%)\n",
      "\n",
      "Train Epoch: 3 [0/60000 (0%)]\tLoss: 0.608233\n",
      "Train Epoch: 3 [2560/60000 (4%)]\tLoss: 0.472184\n",
      "Train Epoch: 3 [5120/60000 (9%)]\tLoss: 0.560830\n",
      "Train Epoch: 3 [7680/60000 (13%)]\tLoss: 0.556956\n",
      "Train Epoch: 3 [10240/60000 (17%)]\tLoss: 0.550658\n",
      "Train Epoch: 3 [12800/60000 (21%)]\tLoss: 0.639451\n",
      "Train Epoch: 3 [15360/60000 (26%)]\tLoss: 0.609485\n",
      "Train Epoch: 3 [17920/60000 (30%)]\tLoss: 0.633213\n",
      "Train Epoch: 3 [20480/60000 (34%)]\tLoss: 0.511043\n",
      "Train Epoch: 3 [23040/60000 (38%)]\tLoss: 0.574368\n",
      "Train Epoch: 3 [25600/60000 (43%)]\tLoss: 0.678324\n",
      "Train Epoch: 3 [28160/60000 (47%)]\tLoss: 0.532802\n",
      "Train Epoch: 3 [30720/60000 (51%)]\tLoss: 0.541426\n",
      "Train Epoch: 3 [33280/60000 (55%)]\tLoss: 0.545610\n",
      "Train Epoch: 3 [35840/60000 (60%)]\tLoss: 0.630873\n",
      "Train Epoch: 3 [38400/60000 (64%)]\tLoss: 0.517602\n",
      "Train Epoch: 3 [40960/60000 (68%)]\tLoss: 0.494611\n",
      "Train Epoch: 3 [43520/60000 (72%)]\tLoss: 0.624441\n",
      "Train Epoch: 3 [46080/60000 (77%)]\tLoss: 0.529626\n",
      "Train Epoch: 3 [48640/60000 (81%)]\tLoss: 0.612745\n",
      "Train Epoch: 3 [51200/60000 (85%)]\tLoss: 0.560820\n",
      "Train Epoch: 3 [53760/60000 (89%)]\tLoss: 0.414509\n",
      "Train Epoch: 3 [56320/60000 (94%)]\tLoss: 0.469098\n",
      "Train Epoch: 3 [58880/60000 (98%)]\tLoss: 0.500030\n",
      "\n",
      "Test set: Avg. loss: 0.2456, Accuracy: 55763/60000 (93%)\n",
      "\n",
      "Train Epoch: 4 [0/60000 (0%)]\tLoss: 0.519342\n",
      "Train Epoch: 4 [2560/60000 (4%)]\tLoss: 0.481195\n",
      "Train Epoch: 4 [5120/60000 (9%)]\tLoss: 0.573889\n",
      "Train Epoch: 4 [7680/60000 (13%)]\tLoss: 0.726618\n",
      "Train Epoch: 4 [10240/60000 (17%)]\tLoss: 0.519523\n",
      "Train Epoch: 4 [12800/60000 (21%)]\tLoss: 0.524741\n",
      "Train Epoch: 4 [15360/60000 (26%)]\tLoss: 0.469054\n",
      "Train Epoch: 4 [17920/60000 (30%)]\tLoss: 0.479879\n",
      "Train Epoch: 4 [20480/60000 (34%)]\tLoss: 0.509534\n",
      "Train Epoch: 4 [23040/60000 (38%)]\tLoss: 0.517571\n",
      "Train Epoch: 4 [25600/60000 (43%)]\tLoss: 0.767234\n",
      "Train Epoch: 4 [28160/60000 (47%)]\tLoss: 0.478509\n",
      "Train Epoch: 4 [30720/60000 (51%)]\tLoss: 0.457317\n",
      "Train Epoch: 4 [33280/60000 (55%)]\tLoss: 0.537282\n",
      "Train Epoch: 4 [35840/60000 (60%)]\tLoss: 0.476722\n",
      "Train Epoch: 4 [38400/60000 (64%)]\tLoss: 0.368512\n",
      "Train Epoch: 4 [40960/60000 (68%)]\tLoss: 0.501560\n",
      "Train Epoch: 4 [43520/60000 (72%)]\tLoss: 0.476287\n",
      "Train Epoch: 4 [46080/60000 (77%)]\tLoss: 0.448911\n",
      "Train Epoch: 4 [48640/60000 (81%)]\tLoss: 0.454917\n",
      "Train Epoch: 4 [51200/60000 (85%)]\tLoss: 0.524355\n",
      "Train Epoch: 4 [53760/60000 (89%)]\tLoss: 0.549973\n",
      "Train Epoch: 4 [56320/60000 (94%)]\tLoss: 0.429254\n",
      "Train Epoch: 4 [58880/60000 (98%)]\tLoss: 0.523916\n",
      "\n",
      "Test set: Avg. loss: 0.2006, Accuracy: 56456/60000 (94%)\n",
      "\n",
      "Train Epoch: 5 [0/60000 (0%)]\tLoss: 0.345665\n",
      "Train Epoch: 5 [2560/60000 (4%)]\tLoss: 0.507209\n",
      "Train Epoch: 5 [5120/60000 (9%)]\tLoss: 0.474731\n",
      "Train Epoch: 5 [7680/60000 (13%)]\tLoss: 0.372328\n",
      "Train Epoch: 5 [10240/60000 (17%)]\tLoss: 0.461003\n",
      "Train Epoch: 5 [12800/60000 (21%)]\tLoss: 0.419946\n",
      "Train Epoch: 5 [15360/60000 (26%)]\tLoss: 0.427886\n",
      "Train Epoch: 5 [17920/60000 (30%)]\tLoss: 0.504917\n",
      "Train Epoch: 5 [20480/60000 (34%)]\tLoss: 0.489997\n",
      "Train Epoch: 5 [23040/60000 (38%)]\tLoss: 0.444764\n",
      "Train Epoch: 5 [25600/60000 (43%)]\tLoss: 0.430923\n",
      "Train Epoch: 5 [28160/60000 (47%)]\tLoss: 0.468102\n",
      "Train Epoch: 5 [30720/60000 (51%)]\tLoss: 0.361169\n",
      "Train Epoch: 5 [33280/60000 (55%)]\tLoss: 0.390098\n",
      "Train Epoch: 5 [35840/60000 (60%)]\tLoss: 0.428736\n",
      "Train Epoch: 5 [38400/60000 (64%)]\tLoss: 0.384144\n",
      "Train Epoch: 5 [40960/60000 (68%)]\tLoss: 0.357372\n",
      "Train Epoch: 5 [43520/60000 (72%)]\tLoss: 0.478338\n",
      "Train Epoch: 5 [46080/60000 (77%)]\tLoss: 0.403707\n",
      "Train Epoch: 5 [48640/60000 (81%)]\tLoss: 0.469198\n",
      "Train Epoch: 5 [51200/60000 (85%)]\tLoss: 0.383480\n",
      "Train Epoch: 5 [53760/60000 (89%)]\tLoss: 0.348816\n",
      "Train Epoch: 5 [56320/60000 (94%)]\tLoss: 0.343543\n",
      "Train Epoch: 5 [58880/60000 (98%)]\tLoss: 0.276985\n",
      "\n",
      "Test set: Avg. loss: 0.1778, Accuracy: 56857/60000 (95%)\n",
      "\n"
     ]
    }
   ],
   "source": [
    "test()\n",
    "for epoch in range(1, n_epochs + 1):\n",
    "  train(epoch)\n",
    "  test()"
   ]
  },
  {
   "cell_type": "code",
   "execution_count": 102,
   "metadata": {},
   "outputs": [],
   "source": [
    "import matplotlib.pyplot as plt"
   ]
  },
  {
   "cell_type": "code",
   "execution_count": 103,
   "metadata": {},
   "outputs": [
    {
     "data": {
      "image/png": "[encoded data removed]",
      "text/plain": [
       "<Figure size 432x288 with 1 Axes>"
      ]
     },
     "execution_count": 103,
     "metadata": {},
     "output_type": "execute_result"
    },
    {
     "data": {
      "image/png": "[encoded data removed]",
      "text/plain": [
       "<Figure size 432x288 with 1 Axes>"
      ]
     },
     "metadata": {
      "needs_background": "light"
     },
     "output_type": "display_data"
    }
   ],
   "source": [
    "fig = plt.figure()\n",
    "plt.plot(train_counter, train_losses, color='blue')\n",
    "plt.scatter(test_counter, test_losses, color='red')\n",
    "plt.legend(['Train Loss', 'Test Loss'], loc='upper right')\n",
    "plt.xlabel('number of training examples seen')\n",
    "plt.ylabel('negative log likelihood loss')\n",
    "fig"
   ]
  }
 ],
 "metadata": {
  "kernelspec": {
   "display_name": "Python 3.10.4 ('pytorch')",
   "language": "python",
   "name": "python3"
  },
  "language_info": {
   "codemirror_mode": {
    "name": "ipython",
    "version": 3
   },
   "file_extension": ".py",
   "mimetype": "text/x-python",
   "name": "python",
   "nbconvert_exporter": "python",
   "pygments_lexer": "ipython3",
   "version": "3.10.4"
  },
  "orig_nbformat": 4,
  "vscode": {
   "interpreter": {
    "hash": "10924a18004a67fec4ca520671884f363c8f96c2bbf22c2f0b2adbd21b6731df"
   }
  }
 },
 "nbformat": 4,
 "nbformat_minor": 2
}
